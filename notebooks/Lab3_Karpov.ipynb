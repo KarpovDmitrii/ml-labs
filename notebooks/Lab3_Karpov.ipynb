{
 "cells": [
  {
   "attachments": {},
   "cell_type": "markdown",
   "metadata": {},
   "source": [
    "Лабораторная работа 3. Обучение с учителем. Задача регрессии\n",
    "ЗАДАНИЕ.\n",
    "1. В соответствии с индивидуальным вариантом загрузить датасет (см. ML 3 semestr datasets) для решения задачи регрессии, выполнить предварительную обработку и разведочный анализ данных (EDA).\n",
    "2. Выделить целевой признак и предикторы, разбить данные на обучающую и тестовую выборку.\n",
    "3. Решить задачу регрессии на ваших данных с использованием моделей sklearn (простая линейная регрессия + L1, L2; множественная линейная регрессия + L1, L2), для моделей с регуляризациями подберите гиперпараметр.\n",
    "4. Решить задачу регрессии на ваших данных с использованием моделей sklearn (Полиномиальная регрессия + L1, L2), для моделей с регуляризациями подберите гиперпараметр.\n",
    "5. Вычислить значения метрик R2, MAE, MSE, RMSE, MAPE для всех обученных моделей. Выбрать лучшую модель.\n",
    "6. Реализовать пайплайн при построении модели регрессии.\n",
    "7. *Самостоятельно реализовать вычисление всех используемых метрик (в виде функций, принимающих два аргумента). Привести в таблице метрики, вычисленные с использование библиотеки Scikit-learn и соответствующими пользовательскими функциями."
   ]
  },
  {
   "attachments": {},
   "cell_type": "markdown",
   "metadata": {},
   "source": [
    "Импортирую все что мне нужно"
   ]
  },
  {
   "cell_type": "code",
   "execution_count": 627,
   "metadata": {},
   "outputs": [],
   "source": [
    "import pandas as pd\n",
    "import numpy as np\n",
    "from sklearn.model_selection import train_test_split, GridSearchCV\n",
    "from sklearn.linear_model import LinearRegression, Lasso, Ridge, ElasticNet\n",
    "from sklearn.metrics import mean_absolute_error, mean_absolute_percentage_error, mean_squared_error\n",
    "from sklearn.pipeline import Pipeline\n",
    "from sklearn.preprocessing import MinMaxScaler, PolynomialFeatures, StandardScaler\n",
    "import matplotlib.pyplot as plt\n",
    "from math import sqrt\n",
    "import seaborn as sns"
   ]
  },
  {
   "attachments": {},
   "cell_type": "markdown",
   "metadata": {},
   "source": [
    "## Выполнить предварительную обработку и разведочный анализ данных "
   ]
  },
  {
   "attachments": {},
   "cell_type": "markdown",
   "metadata": {},
   "source": [
    "Читаю датафреймы и добавляю к ним столбец цвет, который будет отвечать за цвет вина, красное-6, белое -7"
   ]
  },
  {
   "cell_type": "code",
   "execution_count": 628,
   "metadata": {},
   "outputs": [
    {
     "data": {
      "text/html": [
       "<div>\n",
       "<style scoped>\n",
       "    .dataframe tbody tr th:only-of-type {\n",
       "        vertical-align: middle;\n",
       "    }\n",
       "\n",
       "    .dataframe tbody tr th {\n",
       "        vertical-align: top;\n",
       "    }\n",
       "\n",
       "    .dataframe thead th {\n",
       "        text-align: right;\n",
       "    }\n",
       "</style>\n",
       "<table border=\"1\" class=\"dataframe\">\n",
       "  <thead>\n",
       "    <tr style=\"text-align: right;\">\n",
       "      <th></th>\n",
       "      <th>fixed acidity</th>\n",
       "      <th>volatile acidity</th>\n",
       "      <th>citric acid</th>\n",
       "      <th>residual sugar</th>\n",
       "      <th>chlorides</th>\n",
       "      <th>free sulfur dioxide</th>\n",
       "      <th>total sulfur dioxide</th>\n",
       "      <th>density</th>\n",
       "      <th>pH</th>\n",
       "      <th>sulphates</th>\n",
       "      <th>alcohol</th>\n",
       "      <th>quality</th>\n",
       "      <th>color</th>\n",
       "    </tr>\n",
       "  </thead>\n",
       "  <tbody>\n",
       "    <tr>\n",
       "      <th>0</th>\n",
       "      <td>7</td>\n",
       "      <td>0.27</td>\n",
       "      <td>0.36</td>\n",
       "      <td>20.7</td>\n",
       "      <td>0.045</td>\n",
       "      <td>45</td>\n",
       "      <td>170</td>\n",
       "      <td>1.001</td>\n",
       "      <td>3</td>\n",
       "      <td>0.45</td>\n",
       "      <td>8.8</td>\n",
       "      <td>6</td>\n",
       "      <td>7</td>\n",
       "    </tr>\n",
       "    <tr>\n",
       "      <th>1</th>\n",
       "      <td>6.3</td>\n",
       "      <td>0.3</td>\n",
       "      <td>0.34</td>\n",
       "      <td>1.6</td>\n",
       "      <td>0.049</td>\n",
       "      <td>14</td>\n",
       "      <td>132</td>\n",
       "      <td>0.994</td>\n",
       "      <td>3.3</td>\n",
       "      <td>0.49</td>\n",
       "      <td>9.5</td>\n",
       "      <td>6</td>\n",
       "      <td>7</td>\n",
       "    </tr>\n",
       "    <tr>\n",
       "      <th>2</th>\n",
       "      <td>8.1</td>\n",
       "      <td>0.28</td>\n",
       "      <td>0.4</td>\n",
       "      <td>6.9</td>\n",
       "      <td>0.05</td>\n",
       "      <td>30</td>\n",
       "      <td>97</td>\n",
       "      <td>0.9951</td>\n",
       "      <td>3.26</td>\n",
       "      <td>0.44</td>\n",
       "      <td>10.1</td>\n",
       "      <td>6</td>\n",
       "      <td>7</td>\n",
       "    </tr>\n",
       "    <tr>\n",
       "      <th>3</th>\n",
       "      <td>7.2</td>\n",
       "      <td>0.23</td>\n",
       "      <td>0.32</td>\n",
       "      <td>8.5</td>\n",
       "      <td>0.058</td>\n",
       "      <td>47</td>\n",
       "      <td>186</td>\n",
       "      <td>0.9956</td>\n",
       "      <td>3.19</td>\n",
       "      <td>0.4</td>\n",
       "      <td>9.9</td>\n",
       "      <td>6</td>\n",
       "      <td>7</td>\n",
       "    </tr>\n",
       "    <tr>\n",
       "      <th>4</th>\n",
       "      <td>7.2</td>\n",
       "      <td>0.23</td>\n",
       "      <td>0.32</td>\n",
       "      <td>8.5</td>\n",
       "      <td>0.058</td>\n",
       "      <td>47</td>\n",
       "      <td>186</td>\n",
       "      <td>0.9956</td>\n",
       "      <td>3.19</td>\n",
       "      <td>0.4</td>\n",
       "      <td>9.9</td>\n",
       "      <td>6</td>\n",
       "      <td>7</td>\n",
       "    </tr>\n",
       "    <tr>\n",
       "      <th>...</th>\n",
       "      <td>...</td>\n",
       "      <td>...</td>\n",
       "      <td>...</td>\n",
       "      <td>...</td>\n",
       "      <td>...</td>\n",
       "      <td>...</td>\n",
       "      <td>...</td>\n",
       "      <td>...</td>\n",
       "      <td>...</td>\n",
       "      <td>...</td>\n",
       "      <td>...</td>\n",
       "      <td>...</td>\n",
       "      <td>...</td>\n",
       "    </tr>\n",
       "    <tr>\n",
       "      <th>4893</th>\n",
       "      <td>6.2</td>\n",
       "      <td>0.21</td>\n",
       "      <td>0.29</td>\n",
       "      <td>1.6</td>\n",
       "      <td>0.039</td>\n",
       "      <td>24</td>\n",
       "      <td>92</td>\n",
       "      <td>0.99114</td>\n",
       "      <td>3.27</td>\n",
       "      <td>0.5</td>\n",
       "      <td>11.2</td>\n",
       "      <td>6</td>\n",
       "      <td>7</td>\n",
       "    </tr>\n",
       "    <tr>\n",
       "      <th>4894</th>\n",
       "      <td>6.6</td>\n",
       "      <td>0.32</td>\n",
       "      <td>0.36</td>\n",
       "      <td>8</td>\n",
       "      <td>0.047</td>\n",
       "      <td>57</td>\n",
       "      <td>168</td>\n",
       "      <td>0.9949</td>\n",
       "      <td>3.15</td>\n",
       "      <td>0.46</td>\n",
       "      <td>9.6</td>\n",
       "      <td>5</td>\n",
       "      <td>7</td>\n",
       "    </tr>\n",
       "    <tr>\n",
       "      <th>4895</th>\n",
       "      <td>6.5</td>\n",
       "      <td>0.24</td>\n",
       "      <td>0.19</td>\n",
       "      <td>1.2</td>\n",
       "      <td>0.041</td>\n",
       "      <td>30</td>\n",
       "      <td>111</td>\n",
       "      <td>0.99254</td>\n",
       "      <td>2.99</td>\n",
       "      <td>0.46</td>\n",
       "      <td>9.4</td>\n",
       "      <td>6</td>\n",
       "      <td>7</td>\n",
       "    </tr>\n",
       "    <tr>\n",
       "      <th>4896</th>\n",
       "      <td>5.5</td>\n",
       "      <td>0.29</td>\n",
       "      <td>0.3</td>\n",
       "      <td>1.1</td>\n",
       "      <td>0.022</td>\n",
       "      <td>20</td>\n",
       "      <td>110</td>\n",
       "      <td>0.98869</td>\n",
       "      <td>3.34</td>\n",
       "      <td>0.38</td>\n",
       "      <td>12.8</td>\n",
       "      <td>7</td>\n",
       "      <td>7</td>\n",
       "    </tr>\n",
       "    <tr>\n",
       "      <th>4897</th>\n",
       "      <td>6</td>\n",
       "      <td>0.21</td>\n",
       "      <td>0.38</td>\n",
       "      <td>0.8</td>\n",
       "      <td>0.02</td>\n",
       "      <td>22</td>\n",
       "      <td>98</td>\n",
       "      <td>0.98941</td>\n",
       "      <td>3.26</td>\n",
       "      <td>0.32</td>\n",
       "      <td>11.8</td>\n",
       "      <td>6</td>\n",
       "      <td>7</td>\n",
       "    </tr>\n",
       "  </tbody>\n",
       "</table>\n",
       "<p>4898 rows × 13 columns</p>\n",
       "</div>"
      ],
      "text/plain": [
       "     fixed acidity volatile acidity citric acid residual sugar chlorides  \\\n",
       "0                7             0.27        0.36           20.7     0.045   \n",
       "1              6.3              0.3        0.34            1.6     0.049   \n",
       "2              8.1             0.28         0.4            6.9      0.05   \n",
       "3              7.2             0.23        0.32            8.5     0.058   \n",
       "4              7.2             0.23        0.32            8.5     0.058   \n",
       "...            ...              ...         ...            ...       ...   \n",
       "4893           6.2             0.21        0.29            1.6     0.039   \n",
       "4894           6.6             0.32        0.36              8     0.047   \n",
       "4895           6.5             0.24        0.19            1.2     0.041   \n",
       "4896           5.5             0.29         0.3            1.1     0.022   \n",
       "4897             6             0.21        0.38            0.8      0.02   \n",
       "\n",
       "     free sulfur dioxide total sulfur dioxide  density    pH sulphates  \\\n",
       "0                     45                  170    1.001     3      0.45   \n",
       "1                     14                  132    0.994   3.3      0.49   \n",
       "2                     30                   97   0.9951  3.26      0.44   \n",
       "3                     47                  186   0.9956  3.19       0.4   \n",
       "4                     47                  186   0.9956  3.19       0.4   \n",
       "...                  ...                  ...      ...   ...       ...   \n",
       "4893                  24                   92  0.99114  3.27       0.5   \n",
       "4894                  57                  168   0.9949  3.15      0.46   \n",
       "4895                  30                  111  0.99254  2.99      0.46   \n",
       "4896                  20                  110  0.98869  3.34      0.38   \n",
       "4897                  22                   98  0.98941  3.26      0.32   \n",
       "\n",
       "     alcohol  quality  color  \n",
       "0        8.8        6      7  \n",
       "1        9.5        6      7  \n",
       "2       10.1        6      7  \n",
       "3        9.9        6      7  \n",
       "4        9.9        6      7  \n",
       "...      ...      ...    ...  \n",
       "4893    11.2        6      7  \n",
       "4894     9.6        5      7  \n",
       "4895     9.4        6      7  \n",
       "4896    12.8        7      7  \n",
       "4897    11.8        6      7  \n",
       "\n",
       "[4898 rows x 13 columns]"
      ]
     },
     "execution_count": 628,
     "metadata": {},
     "output_type": "execute_result"
    }
   ],
   "source": [
    "df1 = pd.read_csv(r\"../data/winequality-red.csv\",decimal=\",\",delimiter=\";\")\n",
    "df2 = pd.read_csv(r\"../data/winequality-white.csv\",decimal=\",\",delimiter=\";\")\n",
    "df1.insert (loc= len(df1.columns) , column='color', value=6)\n",
    "df2.insert (loc= len(df2.columns) , column='color', value=7)\n",
    "df2"
   ]
  },
  {
   "attachments": {},
   "cell_type": "markdown",
   "metadata": {},
   "source": [
    "Обьединяю два датафрейма игнорируя индексы, а цвет вина уже в отдельном столбце"
   ]
  },
  {
   "cell_type": "code",
   "execution_count": 629,
   "metadata": {},
   "outputs": [
    {
     "data": {
      "text/html": [
       "<div>\n",
       "<style scoped>\n",
       "    .dataframe tbody tr th:only-of-type {\n",
       "        vertical-align: middle;\n",
       "    }\n",
       "\n",
       "    .dataframe tbody tr th {\n",
       "        vertical-align: top;\n",
       "    }\n",
       "\n",
       "    .dataframe thead th {\n",
       "        text-align: right;\n",
       "    }\n",
       "</style>\n",
       "<table border=\"1\" class=\"dataframe\">\n",
       "  <thead>\n",
       "    <tr style=\"text-align: right;\">\n",
       "      <th></th>\n",
       "      <th>fixed acidity</th>\n",
       "      <th>volatile acidity</th>\n",
       "      <th>citric acid</th>\n",
       "      <th>residual sugar</th>\n",
       "      <th>chlorides</th>\n",
       "      <th>free sulfur dioxide</th>\n",
       "      <th>total sulfur dioxide</th>\n",
       "      <th>density</th>\n",
       "      <th>pH</th>\n",
       "      <th>sulphates</th>\n",
       "      <th>alcohol</th>\n",
       "      <th>quality</th>\n",
       "      <th>color</th>\n",
       "    </tr>\n",
       "  </thead>\n",
       "  <tbody>\n",
       "    <tr>\n",
       "      <th>0</th>\n",
       "      <td>7.4</td>\n",
       "      <td>0.7</td>\n",
       "      <td>0</td>\n",
       "      <td>1.9</td>\n",
       "      <td>0.076</td>\n",
       "      <td>11</td>\n",
       "      <td>34</td>\n",
       "      <td>0.9978</td>\n",
       "      <td>3.51</td>\n",
       "      <td>0.56</td>\n",
       "      <td>9.4</td>\n",
       "      <td>5</td>\n",
       "      <td>6</td>\n",
       "    </tr>\n",
       "    <tr>\n",
       "      <th>1</th>\n",
       "      <td>7.8</td>\n",
       "      <td>0.88</td>\n",
       "      <td>0</td>\n",
       "      <td>2.6</td>\n",
       "      <td>0.098</td>\n",
       "      <td>25</td>\n",
       "      <td>67</td>\n",
       "      <td>0.9968</td>\n",
       "      <td>3.2</td>\n",
       "      <td>0.68</td>\n",
       "      <td>9.8</td>\n",
       "      <td>5</td>\n",
       "      <td>6</td>\n",
       "    </tr>\n",
       "    <tr>\n",
       "      <th>2</th>\n",
       "      <td>7.8</td>\n",
       "      <td>0.76</td>\n",
       "      <td>0.04</td>\n",
       "      <td>2.3</td>\n",
       "      <td>0.092</td>\n",
       "      <td>15</td>\n",
       "      <td>54</td>\n",
       "      <td>0.997</td>\n",
       "      <td>3.26</td>\n",
       "      <td>0.65</td>\n",
       "      <td>9.8</td>\n",
       "      <td>5</td>\n",
       "      <td>6</td>\n",
       "    </tr>\n",
       "    <tr>\n",
       "      <th>3</th>\n",
       "      <td>11.2</td>\n",
       "      <td>0.28</td>\n",
       "      <td>0.56</td>\n",
       "      <td>1.9</td>\n",
       "      <td>0.075</td>\n",
       "      <td>17</td>\n",
       "      <td>60</td>\n",
       "      <td>0.998</td>\n",
       "      <td>3.16</td>\n",
       "      <td>0.58</td>\n",
       "      <td>9.8</td>\n",
       "      <td>6</td>\n",
       "      <td>6</td>\n",
       "    </tr>\n",
       "    <tr>\n",
       "      <th>4</th>\n",
       "      <td>7.4</td>\n",
       "      <td>0.7</td>\n",
       "      <td>0</td>\n",
       "      <td>1.9</td>\n",
       "      <td>0.076</td>\n",
       "      <td>11</td>\n",
       "      <td>34</td>\n",
       "      <td>0.9978</td>\n",
       "      <td>3.51</td>\n",
       "      <td>0.56</td>\n",
       "      <td>9.4</td>\n",
       "      <td>5</td>\n",
       "      <td>6</td>\n",
       "    </tr>\n",
       "    <tr>\n",
       "      <th>...</th>\n",
       "      <td>...</td>\n",
       "      <td>...</td>\n",
       "      <td>...</td>\n",
       "      <td>...</td>\n",
       "      <td>...</td>\n",
       "      <td>...</td>\n",
       "      <td>...</td>\n",
       "      <td>...</td>\n",
       "      <td>...</td>\n",
       "      <td>...</td>\n",
       "      <td>...</td>\n",
       "      <td>...</td>\n",
       "      <td>...</td>\n",
       "    </tr>\n",
       "    <tr>\n",
       "      <th>6492</th>\n",
       "      <td>6.2</td>\n",
       "      <td>0.21</td>\n",
       "      <td>0.29</td>\n",
       "      <td>1.6</td>\n",
       "      <td>0.039</td>\n",
       "      <td>24</td>\n",
       "      <td>92</td>\n",
       "      <td>0.99114</td>\n",
       "      <td>3.27</td>\n",
       "      <td>0.5</td>\n",
       "      <td>11.2</td>\n",
       "      <td>6</td>\n",
       "      <td>7</td>\n",
       "    </tr>\n",
       "    <tr>\n",
       "      <th>6493</th>\n",
       "      <td>6.6</td>\n",
       "      <td>0.32</td>\n",
       "      <td>0.36</td>\n",
       "      <td>8</td>\n",
       "      <td>0.047</td>\n",
       "      <td>57</td>\n",
       "      <td>168</td>\n",
       "      <td>0.9949</td>\n",
       "      <td>3.15</td>\n",
       "      <td>0.46</td>\n",
       "      <td>9.6</td>\n",
       "      <td>5</td>\n",
       "      <td>7</td>\n",
       "    </tr>\n",
       "    <tr>\n",
       "      <th>6494</th>\n",
       "      <td>6.5</td>\n",
       "      <td>0.24</td>\n",
       "      <td>0.19</td>\n",
       "      <td>1.2</td>\n",
       "      <td>0.041</td>\n",
       "      <td>30</td>\n",
       "      <td>111</td>\n",
       "      <td>0.99254</td>\n",
       "      <td>2.99</td>\n",
       "      <td>0.46</td>\n",
       "      <td>9.4</td>\n",
       "      <td>6</td>\n",
       "      <td>7</td>\n",
       "    </tr>\n",
       "    <tr>\n",
       "      <th>6495</th>\n",
       "      <td>5.5</td>\n",
       "      <td>0.29</td>\n",
       "      <td>0.3</td>\n",
       "      <td>1.1</td>\n",
       "      <td>0.022</td>\n",
       "      <td>20</td>\n",
       "      <td>110</td>\n",
       "      <td>0.98869</td>\n",
       "      <td>3.34</td>\n",
       "      <td>0.38</td>\n",
       "      <td>12.8</td>\n",
       "      <td>7</td>\n",
       "      <td>7</td>\n",
       "    </tr>\n",
       "    <tr>\n",
       "      <th>6496</th>\n",
       "      <td>6</td>\n",
       "      <td>0.21</td>\n",
       "      <td>0.38</td>\n",
       "      <td>0.8</td>\n",
       "      <td>0.02</td>\n",
       "      <td>22</td>\n",
       "      <td>98</td>\n",
       "      <td>0.98941</td>\n",
       "      <td>3.26</td>\n",
       "      <td>0.32</td>\n",
       "      <td>11.8</td>\n",
       "      <td>6</td>\n",
       "      <td>7</td>\n",
       "    </tr>\n",
       "  </tbody>\n",
       "</table>\n",
       "<p>6497 rows × 13 columns</p>\n",
       "</div>"
      ],
      "text/plain": [
       "     fixed acidity volatile acidity citric acid residual sugar chlorides  \\\n",
       "0              7.4              0.7           0            1.9     0.076   \n",
       "1              7.8             0.88           0            2.6     0.098   \n",
       "2              7.8             0.76        0.04            2.3     0.092   \n",
       "3             11.2             0.28        0.56            1.9     0.075   \n",
       "4              7.4              0.7           0            1.9     0.076   \n",
       "...            ...              ...         ...            ...       ...   \n",
       "6492           6.2             0.21        0.29            1.6     0.039   \n",
       "6493           6.6             0.32        0.36              8     0.047   \n",
       "6494           6.5             0.24        0.19            1.2     0.041   \n",
       "6495           5.5             0.29         0.3            1.1     0.022   \n",
       "6496             6             0.21        0.38            0.8      0.02   \n",
       "\n",
       "     free sulfur dioxide total sulfur dioxide  density    pH sulphates  \\\n",
       "0                     11                   34   0.9978  3.51      0.56   \n",
       "1                     25                   67   0.9968   3.2      0.68   \n",
       "2                     15                   54    0.997  3.26      0.65   \n",
       "3                     17                   60    0.998  3.16      0.58   \n",
       "4                     11                   34   0.9978  3.51      0.56   \n",
       "...                  ...                  ...      ...   ...       ...   \n",
       "6492                  24                   92  0.99114  3.27       0.5   \n",
       "6493                  57                  168   0.9949  3.15      0.46   \n",
       "6494                  30                  111  0.99254  2.99      0.46   \n",
       "6495                  20                  110  0.98869  3.34      0.38   \n",
       "6496                  22                   98  0.98941  3.26      0.32   \n",
       "\n",
       "     alcohol  quality  color  \n",
       "0        9.4        5      6  \n",
       "1        9.8        5      6  \n",
       "2        9.8        5      6  \n",
       "3        9.8        6      6  \n",
       "4        9.4        5      6  \n",
       "...      ...      ...    ...  \n",
       "6492    11.2        6      7  \n",
       "6493     9.6        5      7  \n",
       "6494     9.4        6      7  \n",
       "6495    12.8        7      7  \n",
       "6496    11.8        6      7  \n",
       "\n",
       "[6497 rows x 13 columns]"
      ]
     },
     "execution_count": 629,
     "metadata": {},
     "output_type": "execute_result"
    }
   ],
   "source": [
    "data = pd.concat([df1, df2], axis = 0,ignore_index = True)\n",
    "data"
   ]
  },
  {
   "cell_type": "code",
   "execution_count": 630,
   "metadata": {},
   "outputs": [
    {
     "name": "stdout",
     "output_type": "stream",
     "text": [
      "<class 'pandas.core.frame.DataFrame'>\n",
      "RangeIndex: 6497 entries, 0 to 6496\n",
      "Data columns (total 13 columns):\n",
      " #   Column                Non-Null Count  Dtype \n",
      "---  ------                --------------  ----- \n",
      " 0   fixed acidity         6497 non-null   object\n",
      " 1   volatile acidity      6497 non-null   object\n",
      " 2   citric acid           6497 non-null   object\n",
      " 3   residual sugar        6497 non-null   object\n",
      " 4   chlorides             6497 non-null   object\n",
      " 5   free sulfur dioxide   6497 non-null   object\n",
      " 6   total sulfur dioxide  6497 non-null   object\n",
      " 7   density               6497 non-null   object\n",
      " 8   pH                    6497 non-null   object\n",
      " 9   sulphates             6497 non-null   object\n",
      " 10  alcohol               6497 non-null   object\n",
      " 11  quality               6497 non-null   int64 \n",
      " 12  color                 6497 non-null   int64 \n",
      "dtypes: int64(2), object(11)\n",
      "memory usage: 660.0+ KB\n"
     ]
    }
   ],
   "source": [
    "data.info()"
   ]
  },
  {
   "attachments": {},
   "cell_type": "markdown",
   "metadata": {},
   "source": [
    "Отличный датасет получается, без пропусков и категориальных значений, но надо поменять типы данных в некоторых столбцах"
   ]
  },
  {
   "cell_type": "code",
   "execution_count": 631,
   "metadata": {},
   "outputs": [
    {
     "name": "stdout",
     "output_type": "stream",
     "text": [
      "<class 'pandas.core.frame.DataFrame'>\n",
      "RangeIndex: 6497 entries, 0 to 6496\n",
      "Data columns (total 13 columns):\n",
      " #   Column                Non-Null Count  Dtype  \n",
      "---  ------                --------------  -----  \n",
      " 0   fixed acidity         6497 non-null   float64\n",
      " 1   volatile acidity      6497 non-null   float64\n",
      " 2   citric acid           6497 non-null   float64\n",
      " 3   residual sugar        6497 non-null   float64\n",
      " 4   chlorides             6497 non-null   float64\n",
      " 5   free sulfur dioxide   6497 non-null   float64\n",
      " 6   total sulfur dioxide  6497 non-null   float64\n",
      " 7   density               6497 non-null   float64\n",
      " 8   pH                    6497 non-null   float64\n",
      " 9   sulphates             6497 non-null   float64\n",
      " 10  alcohol               6497 non-null   float64\n",
      " 11  quality               6497 non-null   int64  \n",
      " 12  color                 6497 non-null   int64  \n",
      "dtypes: float64(11), int64(2)\n",
      "memory usage: 660.0 KB\n"
     ]
    }
   ],
   "source": [
    "data['fixed acidity'] = data['fixed acidity'].astype(float)\n",
    "data['volatile acidity'] = data['volatile acidity'].astype(float)\n",
    "data['citric acid'] = data['citric acid'].astype(float)\n",
    "data['residual sugar'] = data['residual sugar'].astype(float)\n",
    "data['chlorides'] = data['chlorides'].astype(float)\n",
    "data['free sulfur dioxide'] = data['free sulfur dioxide'].astype(float)\n",
    "data['total sulfur dioxide'] = data['total sulfur dioxide'].astype(float)\n",
    "data['density'] = data['density'].astype(float)\n",
    "data['pH'] = data['pH'].astype(float)\n",
    "data['sulphates'] = data['sulphates'].astype(float)\n",
    "data['alcohol'] = data['alcohol'].astype(float)\n",
    "\n",
    "data.info()"
   ]
  },
  {
   "attachments": {},
   "cell_type": "markdown",
   "metadata": {},
   "source": [
    "Получился датасет только с числовыми данными, без пропусков"
   ]
  },
  {
   "cell_type": "code",
   "execution_count": 632,
   "metadata": {},
   "outputs": [
    {
     "data": {
      "text/html": [
       "<div>\n",
       "<style scoped>\n",
       "    .dataframe tbody tr th:only-of-type {\n",
       "        vertical-align: middle;\n",
       "    }\n",
       "\n",
       "    .dataframe tbody tr th {\n",
       "        vertical-align: top;\n",
       "    }\n",
       "\n",
       "    .dataframe thead th {\n",
       "        text-align: right;\n",
       "    }\n",
       "</style>\n",
       "<table border=\"1\" class=\"dataframe\">\n",
       "  <thead>\n",
       "    <tr style=\"text-align: right;\">\n",
       "      <th></th>\n",
       "      <th>fixed acidity</th>\n",
       "      <th>volatile acidity</th>\n",
       "      <th>citric acid</th>\n",
       "      <th>residual sugar</th>\n",
       "      <th>chlorides</th>\n",
       "      <th>free sulfur dioxide</th>\n",
       "      <th>total sulfur dioxide</th>\n",
       "      <th>density</th>\n",
       "      <th>pH</th>\n",
       "      <th>sulphates</th>\n",
       "      <th>alcohol</th>\n",
       "      <th>quality</th>\n",
       "      <th>color</th>\n",
       "    </tr>\n",
       "  </thead>\n",
       "  <tbody>\n",
       "    <tr>\n",
       "      <th>fixed acidity</th>\n",
       "      <td>1.000000</td>\n",
       "      <td>0.219008</td>\n",
       "      <td>0.324436</td>\n",
       "      <td>-0.111981</td>\n",
       "      <td>0.298195</td>\n",
       "      <td>-0.282735</td>\n",
       "      <td>-0.329054</td>\n",
       "      <td>0.458910</td>\n",
       "      <td>-0.252700</td>\n",
       "      <td>0.299568</td>\n",
       "      <td>-0.095452</td>\n",
       "      <td>-0.076743</td>\n",
       "      <td>-0.486740</td>\n",
       "    </tr>\n",
       "    <tr>\n",
       "      <th>volatile acidity</th>\n",
       "      <td>0.219008</td>\n",
       "      <td>1.000000</td>\n",
       "      <td>-0.377981</td>\n",
       "      <td>-0.196011</td>\n",
       "      <td>0.377124</td>\n",
       "      <td>-0.352557</td>\n",
       "      <td>-0.414476</td>\n",
       "      <td>0.271296</td>\n",
       "      <td>0.261454</td>\n",
       "      <td>0.225984</td>\n",
       "      <td>-0.037640</td>\n",
       "      <td>-0.265699</td>\n",
       "      <td>-0.653036</td>\n",
       "    </tr>\n",
       "    <tr>\n",
       "      <th>citric acid</th>\n",
       "      <td>0.324436</td>\n",
       "      <td>-0.377981</td>\n",
       "      <td>1.000000</td>\n",
       "      <td>0.142451</td>\n",
       "      <td>0.038998</td>\n",
       "      <td>0.133126</td>\n",
       "      <td>0.195242</td>\n",
       "      <td>0.096154</td>\n",
       "      <td>-0.329808</td>\n",
       "      <td>0.056197</td>\n",
       "      <td>-0.010493</td>\n",
       "      <td>0.085532</td>\n",
       "      <td>0.187397</td>\n",
       "    </tr>\n",
       "    <tr>\n",
       "      <th>residual sugar</th>\n",
       "      <td>-0.111981</td>\n",
       "      <td>-0.196011</td>\n",
       "      <td>0.142451</td>\n",
       "      <td>1.000000</td>\n",
       "      <td>-0.128940</td>\n",
       "      <td>0.402871</td>\n",
       "      <td>0.495482</td>\n",
       "      <td>0.552517</td>\n",
       "      <td>-0.267320</td>\n",
       "      <td>-0.185927</td>\n",
       "      <td>-0.359415</td>\n",
       "      <td>-0.036980</td>\n",
       "      <td>0.348821</td>\n",
       "    </tr>\n",
       "    <tr>\n",
       "      <th>chlorides</th>\n",
       "      <td>0.298195</td>\n",
       "      <td>0.377124</td>\n",
       "      <td>0.038998</td>\n",
       "      <td>-0.128940</td>\n",
       "      <td>1.000000</td>\n",
       "      <td>-0.195045</td>\n",
       "      <td>-0.279630</td>\n",
       "      <td>0.362615</td>\n",
       "      <td>0.044708</td>\n",
       "      <td>0.395593</td>\n",
       "      <td>-0.256916</td>\n",
       "      <td>-0.200666</td>\n",
       "      <td>-0.512678</td>\n",
       "    </tr>\n",
       "    <tr>\n",
       "      <th>free sulfur dioxide</th>\n",
       "      <td>-0.282735</td>\n",
       "      <td>-0.352557</td>\n",
       "      <td>0.133126</td>\n",
       "      <td>0.402871</td>\n",
       "      <td>-0.195045</td>\n",
       "      <td>1.000000</td>\n",
       "      <td>0.720934</td>\n",
       "      <td>0.025717</td>\n",
       "      <td>-0.145854</td>\n",
       "      <td>-0.188457</td>\n",
       "      <td>-0.179838</td>\n",
       "      <td>0.055463</td>\n",
       "      <td>0.471644</td>\n",
       "    </tr>\n",
       "    <tr>\n",
       "      <th>total sulfur dioxide</th>\n",
       "      <td>-0.329054</td>\n",
       "      <td>-0.414476</td>\n",
       "      <td>0.195242</td>\n",
       "      <td>0.495482</td>\n",
       "      <td>-0.279630</td>\n",
       "      <td>0.720934</td>\n",
       "      <td>1.000000</td>\n",
       "      <td>0.032395</td>\n",
       "      <td>-0.238413</td>\n",
       "      <td>-0.275727</td>\n",
       "      <td>-0.265740</td>\n",
       "      <td>-0.041385</td>\n",
       "      <td>0.700357</td>\n",
       "    </tr>\n",
       "    <tr>\n",
       "      <th>density</th>\n",
       "      <td>0.458910</td>\n",
       "      <td>0.271296</td>\n",
       "      <td>0.096154</td>\n",
       "      <td>0.552517</td>\n",
       "      <td>0.362615</td>\n",
       "      <td>0.025717</td>\n",
       "      <td>0.032395</td>\n",
       "      <td>1.000000</td>\n",
       "      <td>0.011686</td>\n",
       "      <td>0.259478</td>\n",
       "      <td>-0.686745</td>\n",
       "      <td>-0.305858</td>\n",
       "      <td>-0.390645</td>\n",
       "    </tr>\n",
       "    <tr>\n",
       "      <th>pH</th>\n",
       "      <td>-0.252700</td>\n",
       "      <td>0.261454</td>\n",
       "      <td>-0.329808</td>\n",
       "      <td>-0.267320</td>\n",
       "      <td>0.044708</td>\n",
       "      <td>-0.145854</td>\n",
       "      <td>-0.238413</td>\n",
       "      <td>0.011686</td>\n",
       "      <td>1.000000</td>\n",
       "      <td>0.192123</td>\n",
       "      <td>0.121248</td>\n",
       "      <td>0.019506</td>\n",
       "      <td>-0.329129</td>\n",
       "    </tr>\n",
       "    <tr>\n",
       "      <th>sulphates</th>\n",
       "      <td>0.299568</td>\n",
       "      <td>0.225984</td>\n",
       "      <td>0.056197</td>\n",
       "      <td>-0.185927</td>\n",
       "      <td>0.395593</td>\n",
       "      <td>-0.188457</td>\n",
       "      <td>-0.275727</td>\n",
       "      <td>0.259478</td>\n",
       "      <td>0.192123</td>\n",
       "      <td>1.000000</td>\n",
       "      <td>-0.003029</td>\n",
       "      <td>0.038485</td>\n",
       "      <td>-0.487218</td>\n",
       "    </tr>\n",
       "    <tr>\n",
       "      <th>alcohol</th>\n",
       "      <td>-0.095452</td>\n",
       "      <td>-0.037640</td>\n",
       "      <td>-0.010493</td>\n",
       "      <td>-0.359415</td>\n",
       "      <td>-0.256916</td>\n",
       "      <td>-0.179838</td>\n",
       "      <td>-0.265740</td>\n",
       "      <td>-0.686745</td>\n",
       "      <td>0.121248</td>\n",
       "      <td>-0.003029</td>\n",
       "      <td>1.000000</td>\n",
       "      <td>0.444319</td>\n",
       "      <td>0.032970</td>\n",
       "    </tr>\n",
       "    <tr>\n",
       "      <th>quality</th>\n",
       "      <td>-0.076743</td>\n",
       "      <td>-0.265699</td>\n",
       "      <td>0.085532</td>\n",
       "      <td>-0.036980</td>\n",
       "      <td>-0.200666</td>\n",
       "      <td>0.055463</td>\n",
       "      <td>-0.041385</td>\n",
       "      <td>-0.305858</td>\n",
       "      <td>0.019506</td>\n",
       "      <td>0.038485</td>\n",
       "      <td>0.444319</td>\n",
       "      <td>1.000000</td>\n",
       "      <td>0.119323</td>\n",
       "    </tr>\n",
       "    <tr>\n",
       "      <th>color</th>\n",
       "      <td>-0.486740</td>\n",
       "      <td>-0.653036</td>\n",
       "      <td>0.187397</td>\n",
       "      <td>0.348821</td>\n",
       "      <td>-0.512678</td>\n",
       "      <td>0.471644</td>\n",
       "      <td>0.700357</td>\n",
       "      <td>-0.390645</td>\n",
       "      <td>-0.329129</td>\n",
       "      <td>-0.487218</td>\n",
       "      <td>0.032970</td>\n",
       "      <td>0.119323</td>\n",
       "      <td>1.000000</td>\n",
       "    </tr>\n",
       "  </tbody>\n",
       "</table>\n",
       "</div>"
      ],
      "text/plain": [
       "                      fixed acidity  volatile acidity  citric acid  \\\n",
       "fixed acidity              1.000000          0.219008     0.324436   \n",
       "volatile acidity           0.219008          1.000000    -0.377981   \n",
       "citric acid                0.324436         -0.377981     1.000000   \n",
       "residual sugar            -0.111981         -0.196011     0.142451   \n",
       "chlorides                  0.298195          0.377124     0.038998   \n",
       "free sulfur dioxide       -0.282735         -0.352557     0.133126   \n",
       "total sulfur dioxide      -0.329054         -0.414476     0.195242   \n",
       "density                    0.458910          0.271296     0.096154   \n",
       "pH                        -0.252700          0.261454    -0.329808   \n",
       "sulphates                  0.299568          0.225984     0.056197   \n",
       "alcohol                   -0.095452         -0.037640    -0.010493   \n",
       "quality                   -0.076743         -0.265699     0.085532   \n",
       "color                     -0.486740         -0.653036     0.187397   \n",
       "\n",
       "                      residual sugar  chlorides  free sulfur dioxide  \\\n",
       "fixed acidity              -0.111981   0.298195            -0.282735   \n",
       "volatile acidity           -0.196011   0.377124            -0.352557   \n",
       "citric acid                 0.142451   0.038998             0.133126   \n",
       "residual sugar              1.000000  -0.128940             0.402871   \n",
       "chlorides                  -0.128940   1.000000            -0.195045   \n",
       "free sulfur dioxide         0.402871  -0.195045             1.000000   \n",
       "total sulfur dioxide        0.495482  -0.279630             0.720934   \n",
       "density                     0.552517   0.362615             0.025717   \n",
       "pH                         -0.267320   0.044708            -0.145854   \n",
       "sulphates                  -0.185927   0.395593            -0.188457   \n",
       "alcohol                    -0.359415  -0.256916            -0.179838   \n",
       "quality                    -0.036980  -0.200666             0.055463   \n",
       "color                       0.348821  -0.512678             0.471644   \n",
       "\n",
       "                      total sulfur dioxide   density        pH  sulphates  \\\n",
       "fixed acidity                    -0.329054  0.458910 -0.252700   0.299568   \n",
       "volatile acidity                 -0.414476  0.271296  0.261454   0.225984   \n",
       "citric acid                       0.195242  0.096154 -0.329808   0.056197   \n",
       "residual sugar                    0.495482  0.552517 -0.267320  -0.185927   \n",
       "chlorides                        -0.279630  0.362615  0.044708   0.395593   \n",
       "free sulfur dioxide               0.720934  0.025717 -0.145854  -0.188457   \n",
       "total sulfur dioxide              1.000000  0.032395 -0.238413  -0.275727   \n",
       "density                           0.032395  1.000000  0.011686   0.259478   \n",
       "pH                               -0.238413  0.011686  1.000000   0.192123   \n",
       "sulphates                        -0.275727  0.259478  0.192123   1.000000   \n",
       "alcohol                          -0.265740 -0.686745  0.121248  -0.003029   \n",
       "quality                          -0.041385 -0.305858  0.019506   0.038485   \n",
       "color                             0.700357 -0.390645 -0.329129  -0.487218   \n",
       "\n",
       "                       alcohol   quality     color  \n",
       "fixed acidity        -0.095452 -0.076743 -0.486740  \n",
       "volatile acidity     -0.037640 -0.265699 -0.653036  \n",
       "citric acid          -0.010493  0.085532  0.187397  \n",
       "residual sugar       -0.359415 -0.036980  0.348821  \n",
       "chlorides            -0.256916 -0.200666 -0.512678  \n",
       "free sulfur dioxide  -0.179838  0.055463  0.471644  \n",
       "total sulfur dioxide -0.265740 -0.041385  0.700357  \n",
       "density              -0.686745 -0.305858 -0.390645  \n",
       "pH                    0.121248  0.019506 -0.329129  \n",
       "sulphates            -0.003029  0.038485 -0.487218  \n",
       "alcohol               1.000000  0.444319  0.032970  \n",
       "quality               0.444319  1.000000  0.119323  \n",
       "color                 0.032970  0.119323  1.000000  "
      ]
     },
     "execution_count": 632,
     "metadata": {},
     "output_type": "execute_result"
    }
   ],
   "source": [
    "data.corr()"
   ]
  },
  {
   "cell_type": "code",
   "execution_count": 633,
   "metadata": {},
   "outputs": [
    {
     "data": {
      "text/plain": [
       "array([[<Axes: title={'center': 'fixed acidity'}>,\n",
       "        <Axes: title={'center': 'volatile acidity'}>,\n",
       "        <Axes: title={'center': 'citric acid'}>,\n",
       "        <Axes: title={'center': 'residual sugar'}>],\n",
       "       [<Axes: title={'center': 'chlorides'}>,\n",
       "        <Axes: title={'center': 'free sulfur dioxide'}>,\n",
       "        <Axes: title={'center': 'total sulfur dioxide'}>,\n",
       "        <Axes: title={'center': 'density'}>],\n",
       "       [<Axes: title={'center': 'pH'}>,\n",
       "        <Axes: title={'center': 'sulphates'}>,\n",
       "        <Axes: title={'center': 'alcohol'}>,\n",
       "        <Axes: title={'center': 'quality'}>],\n",
       "       [<Axes: title={'center': 'color'}>, <Axes: >, <Axes: >, <Axes: >]],\n",
       "      dtype=object)"
      ]
     },
     "execution_count": 633,
     "metadata": {},
     "output_type": "execute_result"
    },
    {
     "data": {
      "image/png": "[encoded data removed]",
      "text/plain": [
       "<Figure size 640x480 with 16 Axes>"
      ]
     },
     "metadata": {},
     "output_type": "display_data"
    }
   ],
   "source": [
    "data.hist()"
   ]
  },
  {
   "attachments": {},
   "cell_type": "markdown",
   "metadata": {},
   "source": []
  },
  {
   "cell_type": "code",
   "execution_count": 634,
   "metadata": {},
   "outputs": [
    {
     "data": {
      "text/plain": [
       "0"
      ]
     },
     "execution_count": 634,
     "metadata": {},
     "output_type": "execute_result"
    }
   ],
   "source": [
    "data.drop_duplicates(inplace=True)\n",
    "data.duplicated().sum()"
   ]
  },
  {
   "cell_type": "code",
   "execution_count": 635,
   "metadata": {},
   "outputs": [],
   "source": [
    "outlier=x = data.drop([\"color\", \"quality\"], axis=1)\n",
    "Q1 = outlier.quantile(0.25)\n",
    "Q3 = outlier.quantile(0.75)\n",
    "IQR = Q3 - Q1\n",
    "data_f = outlier[~((outlier < (Q1 - 1.5 * IQR)) | (outlier > (Q3 + 1.5 * IQR))).any(axis=1)]\n",
    "index_list = list(data_f.index.values)\n",
    "data_f = data[data.index.isin(index_list)]\n",
    "data=data_f"
   ]
  },
  {
   "cell_type": "code",
   "execution_count": 636,
   "metadata": {},
   "outputs": [
    {
     "data": {
      "text/plain": [
       "array([[<Axes: title={'center': 'fixed acidity'}>,\n",
       "        <Axes: title={'center': 'volatile acidity'}>,\n",
       "        <Axes: title={'center': 'citric acid'}>,\n",
       "        <Axes: title={'center': 'residual sugar'}>],\n",
       "       [<Axes: title={'center': 'chlorides'}>,\n",
       "        <Axes: title={'center': 'free sulfur dioxide'}>,\n",
       "        <Axes: title={'center': 'total sulfur dioxide'}>,\n",
       "        <Axes: title={'center': 'density'}>],\n",
       "       [<Axes: title={'center': 'pH'}>,\n",
       "        <Axes: title={'center': 'sulphates'}>,\n",
       "        <Axes: title={'center': 'alcohol'}>,\n",
       "        <Axes: title={'center': 'quality'}>],\n",
       "       [<Axes: title={'center': 'color'}>, <Axes: >, <Axes: >, <Axes: >]],\n",
       "      dtype=object)"
      ]
     },
     "execution_count": 636,
     "metadata": {},
     "output_type": "execute_result"
    },
    {
     "data": {
      "image/png": "[encoded data removed]",
      "text/plain": [
       "<Figure size 640x480 with 16 Axes>"
      ]
     },
     "metadata": {},
     "output_type": "display_data"
    }
   ],
   "source": [
    "data.hist()"
   ]
  },
  {
   "cell_type": "code",
   "execution_count": 637,
   "metadata": {},
   "outputs": [
    {
     "data": {
      "text/html": [
       "<div>\n",
       "<style scoped>\n",
       "    .dataframe tbody tr th:only-of-type {\n",
       "        vertical-align: middle;\n",
       "    }\n",
       "\n",
       "    .dataframe tbody tr th {\n",
       "        vertical-align: top;\n",
       "    }\n",
       "\n",
       "    .dataframe thead th {\n",
       "        text-align: right;\n",
       "    }\n",
       "</style>\n",
       "<table border=\"1\" class=\"dataframe\">\n",
       "  <thead>\n",
       "    <tr style=\"text-align: right;\">\n",
       "      <th></th>\n",
       "      <th>fixed acidity</th>\n",
       "      <th>volatile acidity</th>\n",
       "      <th>citric acid</th>\n",
       "      <th>residual sugar</th>\n",
       "      <th>chlorides</th>\n",
       "      <th>free sulfur dioxide</th>\n",
       "      <th>total sulfur dioxide</th>\n",
       "      <th>density</th>\n",
       "      <th>pH</th>\n",
       "      <th>sulphates</th>\n",
       "      <th>alcohol</th>\n",
       "      <th>quality</th>\n",
       "      <th>color</th>\n",
       "    </tr>\n",
       "  </thead>\n",
       "  <tbody>\n",
       "    <tr>\n",
       "      <th>fixed acidity</th>\n",
       "      <td>1.000000</td>\n",
       "      <td>0.142915</td>\n",
       "      <td>0.222573</td>\n",
       "      <td>-0.044380</td>\n",
       "      <td>0.317288</td>\n",
       "      <td>-0.180752</td>\n",
       "      <td>-0.165080</td>\n",
       "      <td>0.369462</td>\n",
       "      <td>-0.257290</td>\n",
       "      <td>0.133452</td>\n",
       "      <td>-0.118289</td>\n",
       "      <td>-0.101360</td>\n",
       "      <td>-0.332071</td>\n",
       "    </tr>\n",
       "    <tr>\n",
       "      <th>volatile acidity</th>\n",
       "      <td>0.142915</td>\n",
       "      <td>1.000000</td>\n",
       "      <td>-0.437851</td>\n",
       "      <td>-0.115766</td>\n",
       "      <td>0.479483</td>\n",
       "      <td>-0.309446</td>\n",
       "      <td>-0.326788</td>\n",
       "      <td>0.254696</td>\n",
       "      <td>0.213307</td>\n",
       "      <td>0.197716</td>\n",
       "      <td>-0.051003</td>\n",
       "      <td>-0.207823</td>\n",
       "      <td>-0.613549</td>\n",
       "    </tr>\n",
       "    <tr>\n",
       "      <th>citric acid</th>\n",
       "      <td>0.222573</td>\n",
       "      <td>-0.437851</td>\n",
       "      <td>1.000000</td>\n",
       "      <td>0.152115</td>\n",
       "      <td>-0.199068</td>\n",
       "      <td>0.190787</td>\n",
       "      <td>0.257796</td>\n",
       "      <td>-0.004357</td>\n",
       "      <td>-0.254110</td>\n",
       "      <td>-0.035054</td>\n",
       "      <td>0.044840</td>\n",
       "      <td>0.102361</td>\n",
       "      <td>0.289033</td>\n",
       "    </tr>\n",
       "    <tr>\n",
       "      <th>residual sugar</th>\n",
       "      <td>-0.044380</td>\n",
       "      <td>-0.115766</td>\n",
       "      <td>0.152115</td>\n",
       "      <td>1.000000</td>\n",
       "      <td>-0.093635</td>\n",
       "      <td>0.419787</td>\n",
       "      <td>0.470908</td>\n",
       "      <td>0.568630</td>\n",
       "      <td>-0.222851</td>\n",
       "      <td>-0.135201</td>\n",
       "      <td>-0.314501</td>\n",
       "      <td>-0.050386</td>\n",
       "      <td>0.282336</td>\n",
       "    </tr>\n",
       "    <tr>\n",
       "      <th>chlorides</th>\n",
       "      <td>0.317288</td>\n",
       "      <td>0.479483</td>\n",
       "      <td>-0.199068</td>\n",
       "      <td>-0.093635</td>\n",
       "      <td>1.000000</td>\n",
       "      <td>-0.216588</td>\n",
       "      <td>-0.287739</td>\n",
       "      <td>0.554114</td>\n",
       "      <td>0.239495</td>\n",
       "      <td>0.328429</td>\n",
       "      <td>-0.390385</td>\n",
       "      <td>-0.277059</td>\n",
       "      <td>-0.719832</td>\n",
       "    </tr>\n",
       "    <tr>\n",
       "      <th>free sulfur dioxide</th>\n",
       "      <td>-0.180752</td>\n",
       "      <td>-0.309446</td>\n",
       "      <td>0.190787</td>\n",
       "      <td>0.419787</td>\n",
       "      <td>-0.216588</td>\n",
       "      <td>1.000000</td>\n",
       "      <td>0.690474</td>\n",
       "      <td>0.114415</td>\n",
       "      <td>-0.150050</td>\n",
       "      <td>-0.137457</td>\n",
       "      <td>-0.177394</td>\n",
       "      <td>0.083160</td>\n",
       "      <td>0.398202</td>\n",
       "    </tr>\n",
       "    <tr>\n",
       "      <th>total sulfur dioxide</th>\n",
       "      <td>-0.165080</td>\n",
       "      <td>-0.326788</td>\n",
       "      <td>0.257796</td>\n",
       "      <td>0.470908</td>\n",
       "      <td>-0.287739</td>\n",
       "      <td>0.690474</td>\n",
       "      <td>1.000000</td>\n",
       "      <td>0.150206</td>\n",
       "      <td>-0.210679</td>\n",
       "      <td>-0.187339</td>\n",
       "      <td>-0.284416</td>\n",
       "      <td>-0.065004</td>\n",
       "      <td>0.620572</td>\n",
       "    </tr>\n",
       "    <tr>\n",
       "      <th>density</th>\n",
       "      <td>0.369462</td>\n",
       "      <td>0.254696</td>\n",
       "      <td>-0.004357</td>\n",
       "      <td>0.568630</td>\n",
       "      <td>0.554114</td>\n",
       "      <td>0.114415</td>\n",
       "      <td>0.150206</td>\n",
       "      <td>1.000000</td>\n",
       "      <td>0.117482</td>\n",
       "      <td>0.234325</td>\n",
       "      <td>-0.755292</td>\n",
       "      <td>-0.348460</td>\n",
       "      <td>-0.371288</td>\n",
       "    </tr>\n",
       "    <tr>\n",
       "      <th>pH</th>\n",
       "      <td>-0.257290</td>\n",
       "      <td>0.213307</td>\n",
       "      <td>-0.254110</td>\n",
       "      <td>-0.222851</td>\n",
       "      <td>0.239495</td>\n",
       "      <td>-0.150050</td>\n",
       "      <td>-0.210679</td>\n",
       "      <td>0.117482</td>\n",
       "      <td>1.000000</td>\n",
       "      <td>0.276824</td>\n",
       "      <td>0.020809</td>\n",
       "      <td>0.053701</td>\n",
       "      <td>-0.356888</td>\n",
       "    </tr>\n",
       "    <tr>\n",
       "      <th>sulphates</th>\n",
       "      <td>0.133452</td>\n",
       "      <td>0.197716</td>\n",
       "      <td>-0.035054</td>\n",
       "      <td>-0.135201</td>\n",
       "      <td>0.328429</td>\n",
       "      <td>-0.137457</td>\n",
       "      <td>-0.187339</td>\n",
       "      <td>0.234325</td>\n",
       "      <td>0.276824</td>\n",
       "      <td>1.000000</td>\n",
       "      <td>-0.041435</td>\n",
       "      <td>0.042733</td>\n",
       "      <td>-0.421705</td>\n",
       "    </tr>\n",
       "    <tr>\n",
       "      <th>alcohol</th>\n",
       "      <td>-0.118289</td>\n",
       "      <td>-0.051003</td>\n",
       "      <td>0.044840</td>\n",
       "      <td>-0.314501</td>\n",
       "      <td>-0.390385</td>\n",
       "      <td>-0.177394</td>\n",
       "      <td>-0.284416</td>\n",
       "      <td>-0.755292</td>\n",
       "      <td>0.020809</td>\n",
       "      <td>-0.041435</td>\n",
       "      <td>1.000000</td>\n",
       "      <td>0.472541</td>\n",
       "      <td>0.080089</td>\n",
       "    </tr>\n",
       "    <tr>\n",
       "      <th>quality</th>\n",
       "      <td>-0.101360</td>\n",
       "      <td>-0.207823</td>\n",
       "      <td>0.102361</td>\n",
       "      <td>-0.050386</td>\n",
       "      <td>-0.277059</td>\n",
       "      <td>0.083160</td>\n",
       "      <td>-0.065004</td>\n",
       "      <td>-0.348460</td>\n",
       "      <td>0.053701</td>\n",
       "      <td>0.042733</td>\n",
       "      <td>0.472541</td>\n",
       "      <td>1.000000</td>\n",
       "      <td>0.106802</td>\n",
       "    </tr>\n",
       "    <tr>\n",
       "      <th>color</th>\n",
       "      <td>-0.332071</td>\n",
       "      <td>-0.613549</td>\n",
       "      <td>0.289033</td>\n",
       "      <td>0.282336</td>\n",
       "      <td>-0.719832</td>\n",
       "      <td>0.398202</td>\n",
       "      <td>0.620572</td>\n",
       "      <td>-0.371288</td>\n",
       "      <td>-0.356888</td>\n",
       "      <td>-0.421705</td>\n",
       "      <td>0.080089</td>\n",
       "      <td>0.106802</td>\n",
       "      <td>1.000000</td>\n",
       "    </tr>\n",
       "  </tbody>\n",
       "</table>\n",
       "</div>"
      ],
      "text/plain": [
       "                      fixed acidity  volatile acidity  citric acid  \\\n",
       "fixed acidity              1.000000          0.142915     0.222573   \n",
       "volatile acidity           0.142915          1.000000    -0.437851   \n",
       "citric acid                0.222573         -0.437851     1.000000   \n",
       "residual sugar            -0.044380         -0.115766     0.152115   \n",
       "chlorides                  0.317288          0.479483    -0.199068   \n",
       "free sulfur dioxide       -0.180752         -0.309446     0.190787   \n",
       "total sulfur dioxide      -0.165080         -0.326788     0.257796   \n",
       "density                    0.369462          0.254696    -0.004357   \n",
       "pH                        -0.257290          0.213307    -0.254110   \n",
       "sulphates                  0.133452          0.197716    -0.035054   \n",
       "alcohol                   -0.118289         -0.051003     0.044840   \n",
       "quality                   -0.101360         -0.207823     0.102361   \n",
       "color                     -0.332071         -0.613549     0.289033   \n",
       "\n",
       "                      residual sugar  chlorides  free sulfur dioxide  \\\n",
       "fixed acidity              -0.044380   0.317288            -0.180752   \n",
       "volatile acidity           -0.115766   0.479483            -0.309446   \n",
       "citric acid                 0.152115  -0.199068             0.190787   \n",
       "residual sugar              1.000000  -0.093635             0.419787   \n",
       "chlorides                  -0.093635   1.000000            -0.216588   \n",
       "free sulfur dioxide         0.419787  -0.216588             1.000000   \n",
       "total sulfur dioxide        0.470908  -0.287739             0.690474   \n",
       "density                     0.568630   0.554114             0.114415   \n",
       "pH                         -0.222851   0.239495            -0.150050   \n",
       "sulphates                  -0.135201   0.328429            -0.137457   \n",
       "alcohol                    -0.314501  -0.390385            -0.177394   \n",
       "quality                    -0.050386  -0.277059             0.083160   \n",
       "color                       0.282336  -0.719832             0.398202   \n",
       "\n",
       "                      total sulfur dioxide   density        pH  sulphates  \\\n",
       "fixed acidity                    -0.165080  0.369462 -0.257290   0.133452   \n",
       "volatile acidity                 -0.326788  0.254696  0.213307   0.197716   \n",
       "citric acid                       0.257796 -0.004357 -0.254110  -0.035054   \n",
       "residual sugar                    0.470908  0.568630 -0.222851  -0.135201   \n",
       "chlorides                        -0.287739  0.554114  0.239495   0.328429   \n",
       "free sulfur dioxide               0.690474  0.114415 -0.150050  -0.137457   \n",
       "total sulfur dioxide              1.000000  0.150206 -0.210679  -0.187339   \n",
       "density                           0.150206  1.000000  0.117482   0.234325   \n",
       "pH                               -0.210679  0.117482  1.000000   0.276824   \n",
       "sulphates                        -0.187339  0.234325  0.276824   1.000000   \n",
       "alcohol                          -0.284416 -0.755292  0.020809  -0.041435   \n",
       "quality                          -0.065004 -0.348460  0.053701   0.042733   \n",
       "color                             0.620572 -0.371288 -0.356888  -0.421705   \n",
       "\n",
       "                       alcohol   quality     color  \n",
       "fixed acidity        -0.118289 -0.101360 -0.332071  \n",
       "volatile acidity     -0.051003 -0.207823 -0.613549  \n",
       "citric acid           0.044840  0.102361  0.289033  \n",
       "residual sugar       -0.314501 -0.050386  0.282336  \n",
       "chlorides            -0.390385 -0.277059 -0.719832  \n",
       "free sulfur dioxide  -0.177394  0.083160  0.398202  \n",
       "total sulfur dioxide -0.284416 -0.065004  0.620572  \n",
       "density              -0.755292 -0.348460 -0.371288  \n",
       "pH                    0.020809  0.053701 -0.356888  \n",
       "sulphates            -0.041435  0.042733 -0.421705  \n",
       "alcohol               1.000000  0.472541  0.080089  \n",
       "quality               0.472541  1.000000  0.106802  \n",
       "color                 0.080089  0.106802  1.000000  "
      ]
     },
     "execution_count": 637,
     "metadata": {},
     "output_type": "execute_result"
    }
   ],
   "source": [
    "data.corr()"
   ]
  },
  {
   "attachments": {},
   "cell_type": "markdown",
   "metadata": {},
   "source": [
    "## Простая линейная регрессия"
   ]
  },
  {
   "attachments": {},
   "cell_type": "markdown",
   "metadata": {},
   "source": [
    "Не забудем про пайплайн"
   ]
  },
  {
   "cell_type": "code",
   "execution_count": 638,
   "metadata": {},
   "outputs": [],
   "source": [
    "pipeline = Pipeline(\n",
    "    [\n",
    "        ('minmaxscaler', MinMaxScaler()),\n",
    "        ('model', LinearRegression()),\n",
    "        #('svc', SVC())\n",
    "    ]\n",
    ")\n"
   ]
  },
  {
   "attachments": {},
   "cell_type": "markdown",
   "metadata": {},
   "source": [
    "Целевой признак качество, предиктором будет alcohol"
   ]
  },
  {
   "cell_type": "code",
   "execution_count": 639,
   "metadata": {},
   "outputs": [],
   "source": [
    "y = pd.DataFrame(data[\"quality\"])\n",
    "x = pd.DataFrame(data[\"alcohol\"])"
   ]
  },
  {
   "attachments": {},
   "cell_type": "markdown",
   "metadata": {},
   "source": [
    "Разделим на обучающую и тестовую выборки 80\\20"
   ]
  },
  {
   "cell_type": "code",
   "execution_count": 640,
   "metadata": {},
   "outputs": [],
   "source": [
    "x_train, x_test, y_train, y_test = train_test_split(x, y, test_size=0.2)"
   ]
  },
  {
   "attachments": {},
   "cell_type": "markdown",
   "metadata": {},
   "source": [
    "Обучим модель и сделаем прогноз"
   ]
  },
  {
   "cell_type": "code",
   "execution_count": 641,
   "metadata": {},
   "outputs": [],
   "source": [
    "lr = pipeline.fit(x_train, y_train)\n",
    "\n",
    "y_pred = pd.DataFrame(lr.predict(x_test))"
   ]
  },
  {
   "cell_type": "code",
   "execution_count": 642,
   "metadata": {},
   "outputs": [
    {
     "data": {
      "image/png": "[encoded data removed]",
      "text/plain": [
       "<Figure size 640x480 with 1 Axes>"
      ]
     },
     "metadata": {},
     "output_type": "display_data"
    }
   ],
   "source": [
    "plt.scatter(x=x_test, y=y_test)\n",
    "plt.plot(x_test, y_pred, c=\"orange\")\n",
    "plt.xlabel(\"alcohol\")\n",
    "plt.ylabel(\"quality\")\n",
    "plt.show()"
   ]
  },
  {
   "attachments": {},
   "cell_type": "markdown",
   "metadata": {},
   "source": [
    "Модель попыталась, но в данном случае одного алкоголя оказалось недостаточно, посмотрим на метрики"
   ]
  },
  {
   "cell_type": "code",
   "execution_count": 643,
   "metadata": {},
   "outputs": [
    {
     "name": "stdout",
     "output_type": "stream",
     "text": [
      "MAE: 0.6331774308106568\n",
      "MSE: 0.6517407743966128\n",
      "RMSE: 0.8073046354360991\n",
      "MAPE: 0.11572425938341498\n",
      "R^2: 0.1814472299595058\n"
     ]
    }
   ],
   "source": [
    "print(f'MAE: {mean_absolute_error(y_test, y_pred)}')\n",
    "print(f'MSE: {mean_squared_error(y_test, y_pred)}')\n",
    "print(f'RMSE: {sqrt(mean_squared_error(y_test, y_pred))}')\n",
    "print(f'MAPE: {mean_absolute_percentage_error(y_test, y_pred)}')\n",
    "print(f'R^2: {lr.score(x_test, y_test)}')"
   ]
  },
  {
   "attachments": {},
   "cell_type": "markdown",
   "metadata": {},
   "source": [
    "Коэффицент детиерминации очень низкий"
   ]
  },
  {
   "attachments": {},
   "cell_type": "markdown",
   "metadata": {},
   "source": [
    "Теперь воспользуемся регуляризацией L1 лассо"
   ]
  },
  {
   "attachments": {},
   "cell_type": "markdown",
   "metadata": {},
   "source": [
    "подберем параметр через гридсерч"
   ]
  },
  {
   "cell_type": "code",
   "execution_count": 644,
   "metadata": {},
   "outputs": [
    {
     "data": {
      "text/plain": [
       "{'model__alpha': 0.1}"
      ]
     },
     "execution_count": 644,
     "metadata": {},
     "output_type": "execute_result"
    }
   ],
   "source": [
    "pipeline = Pipeline(\n",
    "    [\n",
    "        (\"scaler\", MinMaxScaler()),\n",
    "        (\"model\", Lasso()),\n",
    "    ]\n",
    ")\n",
    "\n",
    "param_grid = {\n",
    "    \"model__alpha\": np.arange(0.1, 1, 0.1)\n",
    "}\n",
    "\n",
    "gridsearch = GridSearchCV(pipeline, param_grid, scoring=\"r2\")\n",
    "gridsearch.fit(x_train, y_train)\n",
    "best_params = gridsearch.best_params_\n",
    "best_params\n"
   ]
  },
  {
   "attachments": {},
   "cell_type": "markdown",
   "metadata": {},
   "source": [
    "Обучим модель с помощью регуляризатора лассо и оптимального параметра"
   ]
  },
  {
   "cell_type": "code",
   "execution_count": 645,
   "metadata": {},
   "outputs": [
    {
     "name": "stdout",
     "output_type": "stream",
     "text": [
      "MAE: 0.6811965811965813\n",
      "MSE: 0.8000429448710954\n",
      "RMSE: 0.8944511975905088\n",
      "MAPE: 0.12461336404598818\n",
      "R^2: -0.0048126408569120205\n"
     ]
    },
    {
     "data": {
      "image/png": "[encoded data removed]",
      "text/plain": [
       "<Figure size 640x480 with 1 Axes>"
      ]
     },
     "metadata": {},
     "output_type": "display_data"
    }
   ],
   "source": [
    "pipeline = pipeline.set_params(**best_params)\n",
    "pipeline.fit(x_train, y_train)\n",
    "\n",
    "y_pred = pipeline.predict(x_test)\n",
    "\n",
    "print(f'MAE: {mean_absolute_error(y_test, y_pred)}')\n",
    "print(f'MSE: {mean_squared_error(y_test, y_pred)}')\n",
    "print(f'RMSE: {sqrt(mean_squared_error(y_test, y_pred))}')\n",
    "print(f'MAPE: {mean_absolute_percentage_error(y_test, y_pred)}')\n",
    "print(f'R^2: {pipeline.score(x_test, y_test)}')\n",
    "\n",
    "plt.scatter(x=x_test, y=y_test)\n",
    "plt.plot(x_test, y_pred, c=\"orange\")\n",
    "plt.xlabel(\"quality\")\n",
    "plt.ylabel(\"alcohol\")\n",
    "plt.show()"
   ]
  },
  {
   "attachments": {},
   "cell_type": "markdown",
   "metadata": {},
   "source": [
    "Модель стала хуже, теперь это константное предсказание"
   ]
  },
  {
   "attachments": {},
   "cell_type": "markdown",
   "metadata": {},
   "source": [
    "теперь воспользуемся ридж"
   ]
  },
  {
   "cell_type": "code",
   "execution_count": 646,
   "metadata": {},
   "outputs": [
    {
     "data": {
      "text/plain": [
       "{'model__alpha': 0.9}"
      ]
     },
     "execution_count": 646,
     "metadata": {},
     "output_type": "execute_result"
    }
   ],
   "source": [
    "pipeline = Pipeline(\n",
    "    [\n",
    "        (\"scaler\", MinMaxScaler()),\n",
    "        (\"model\", Ridge()),\n",
    "    ]\n",
    ")\n",
    "\n",
    "param_grid = {\n",
    "    \"model__alpha\": np.arange(0.1, 1.1, 0.1)\n",
    "}\n",
    "\n",
    "gridsearch = GridSearchCV(pipeline, param_grid, scoring=\"r2\")\n",
    "gridsearch.fit(x_train, y_train)\n",
    "best_params = gridsearch.best_params_\n",
    "best_params"
   ]
  },
  {
   "cell_type": "code",
   "execution_count": 647,
   "metadata": {},
   "outputs": [
    {
     "name": "stdout",
     "output_type": "stream",
     "text": [
      "MAE: 0.6331668674707575\n",
      "MSE: 0.6515316724613094\n",
      "RMSE: 0.8071751188319108\n",
      "MAPE: 0.1157285985487718\n",
      "R^2: 0.18170985119648764\n"
     ]
    },
    {
     "data": {
      "image/png": "[encoded data removed]",
      "text/plain": [
       "<Figure size 640x480 with 1 Axes>"
      ]
     },
     "metadata": {},
     "output_type": "display_data"
    }
   ],
   "source": [
    "pipeline = pipeline.set_params(**best_params)\n",
    "pipeline.fit(x_train, y_train)\n",
    "\n",
    "y_pred = pipeline.predict(x_test)\n",
    "\n",
    "print(f'MAE: {mean_absolute_error(y_test, y_pred)}')\n",
    "print(f'MSE: {mean_squared_error(y_test, y_pred)}')\n",
    "print(f'RMSE: {sqrt(mean_squared_error(y_test, y_pred))}')\n",
    "print(f'MAPE: {mean_absolute_percentage_error(y_test, y_pred)}')\n",
    "print(f'R^2: {pipeline.score(x_test, y_test)}')\n",
    "\n",
    "plt.scatter(x=x_test, y=y_test)\n",
    "plt.plot(x_test, y_pred, c=\"orange\")\n",
    "plt.xlabel(\"quality\")\n",
    "plt.ylabel(\"alcohol\")\n",
    "plt.show()"
   ]
  },
  {
   "attachments": {},
   "cell_type": "markdown",
   "metadata": {},
   "source": [
    "ридж сработал гораздо лчше чем лассо, но по сути ситацию никак не изменил"
   ]
  },
  {
   "attachments": {},
   "cell_type": "markdown",
   "metadata": {},
   "source": [
    "Теперь воспольземся эластик нэт"
   ]
  },
  {
   "cell_type": "code",
   "execution_count": 648,
   "metadata": {},
   "outputs": [
    {
     "data": {
      "text/plain": [
       "{'model__alpha': 0.1, 'model__l1_ratio': 0.1}"
      ]
     },
     "execution_count": 648,
     "metadata": {},
     "output_type": "execute_result"
    }
   ],
   "source": [
    "pipeline = Pipeline(\n",
    "    [\n",
    "        (\"scaler\", MinMaxScaler()),\n",
    "        (\"model\", ElasticNet())\n",
    "    ]\n",
    ")\n",
    "param_grid = {\n",
    "    \"model__alpha\": [0.1, 0.5, 1, 5, 30],\n",
    "    \"model__l1_ratio\": np.arange(0.1, 1, 0.1),\n",
    "}\n",
    "\n",
    "gridsearch = GridSearchCV(pipeline, param_grid, scoring=\"r2\")\n",
    "gridsearch.fit(x_train, y_train)\n",
    "best_params = gridsearch.best_params_\n",
    "best_params"
   ]
  },
  {
   "cell_type": "code",
   "execution_count": 649,
   "metadata": {},
   "outputs": [
    {
     "name": "stdout",
     "output_type": "stream",
     "text": [
      "MAE: 0.6447771448794885\n",
      "MSE: 0.7225487757142505\n",
      "RMSE: 0.8500286911123944\n",
      "MAPE: 0.11829922285243764\n",
      "R^2: 0.09251603538564601\n"
     ]
    },
    {
     "data": {
      "image/png": "[encoded data removed]",
      "text/plain": [
       "<Figure size 640x480 with 1 Axes>"
      ]
     },
     "metadata": {},
     "output_type": "display_data"
    }
   ],
   "source": [
    "pipeline = pipeline.set_params(**best_params)\n",
    "pipeline.fit(x_train, y_train)\n",
    "\n",
    "y_pred = pipeline.predict(x_test)\n",
    "\n",
    "print(f'MAE: {mean_absolute_error(y_test, y_pred)}')\n",
    "print(f'MSE: {mean_squared_error(y_test, y_pred)}')\n",
    "print(f'RMSE: {sqrt(mean_squared_error(y_test, y_pred))}')\n",
    "print(f'MAPE: {mean_absolute_percentage_error(y_test, y_pred)}')\n",
    "print(f'R^2: {pipeline.score(x_test, y_test)}')\n",
    "\n",
    "plt.scatter(x=x_test, y=y_test)\n",
    "plt.plot(x_test, y_pred, c=\"orange\")\n",
    "plt.xlabel(\"quality\")\n",
    "plt.ylabel(\"alcohol\")\n",
    "plt.show()"
   ]
  },
  {
   "attachments": {},
   "cell_type": "markdown",
   "metadata": {},
   "source": [
    "Получилось что эластик нэт показал результат средний между ридж и лассо"
   ]
  },
  {
   "attachments": {},
   "cell_type": "markdown",
   "metadata": {},
   "source": [
    "Лучшая модель- либо без регуляризатора, либо с регуляризатором ридж."
   ]
  },
  {
   "attachments": {},
   "cell_type": "markdown",
   "metadata": {},
   "source": [
    "## Множественная линейная регрессия"
   ]
  },
  {
   "cell_type": "code",
   "execution_count": 650,
   "metadata": {},
   "outputs": [],
   "source": [
    "y = data[\"quality\"]\n",
    "x = data.drop(\"quality\", axis=1)\n",
    "x_train, x_test, y_train, y_test = train_test_split(x, y, test_size=0.2)"
   ]
  },
  {
   "attachments": {},
   "cell_type": "markdown",
   "metadata": {},
   "source": [
    "обучим модель множественной линейной регрессии без регуляризатора"
   ]
  },
  {
   "cell_type": "code",
   "execution_count": 651,
   "metadata": {},
   "outputs": [
    {
     "data": {
      "text/html": [
       "<style>#sk-container-id-16 {color: black;}#sk-container-id-16 pre{padding: 0;}#sk-container-id-16 div.sk-toggleable {background-color: white;}#sk-container-id-16 label.sk-toggleable__label {cursor: pointer;display: block;width: 100%;margin-bottom: 0;padding: 0.3em;box-sizing: border-box;text-align: center;}#sk-container-id-16 label.sk-toggleable__label-arrow:before {content: \"▸\";float: left;margin-right: 0.25em;color: #696969;}#sk-container-id-16 label.sk-toggleable__label-arrow:hover:before {color: black;}#sk-container-id-16 div.sk-estimator:hover label.sk-toggleable__label-arrow:before {color: black;}#sk-container-id-16 div.sk-toggleable__content {max-height: 0;max-width: 0;overflow: hidden;text-align: left;background-color: #f0f8ff;}#sk-container-id-16 div.sk-toggleable__content pre {margin: 0.2em;color: black;border-radius: 0.25em;background-color: #f0f8ff;}#sk-container-id-16 input.sk-toggleable__control:checked~div.sk-toggleable__content {max-height: 200px;max-width: 100%;overflow: auto;}#sk-container-id-16 input.sk-toggleable__control:checked~label.sk-toggleable__label-arrow:before {content: \"▾\";}#sk-container-id-16 div.sk-estimator input.sk-toggleable__control:checked~label.sk-toggleable__label {background-color: #d4ebff;}#sk-container-id-16 div.sk-label input.sk-toggleable__control:checked~label.sk-toggleable__label {background-color: #d4ebff;}#sk-container-id-16 input.sk-hidden--visually {border: 0;clip: rect(1px 1px 1px 1px);clip: rect(1px, 1px, 1px, 1px);height: 1px;margin: -1px;overflow: hidden;padding: 0;position: absolute;width: 1px;}#sk-container-id-16 div.sk-estimator {font-family: monospace;background-color: #f0f8ff;border: 1px dotted black;border-radius: 0.25em;box-sizing: border-box;margin-bottom: 0.5em;}#sk-container-id-16 div.sk-estimator:hover {background-color: #d4ebff;}#sk-container-id-16 div.sk-parallel-item::after {content: \"\";width: 100%;border-bottom: 1px solid gray;flex-grow: 1;}#sk-container-id-16 div.sk-label:hover label.sk-toggleable__label {background-color: #d4ebff;}#sk-container-id-16 div.sk-serial::before {content: \"\";position: absolute;border-left: 1px solid gray;box-sizing: border-box;top: 0;bottom: 0;left: 50%;z-index: 0;}#sk-container-id-16 div.sk-serial {display: flex;flex-direction: column;align-items: center;background-color: white;padding-right: 0.2em;padding-left: 0.2em;position: relative;}#sk-container-id-16 div.sk-item {position: relative;z-index: 1;}#sk-container-id-16 div.sk-parallel {display: flex;align-items: stretch;justify-content: center;background-color: white;position: relative;}#sk-container-id-16 div.sk-item::before, #sk-container-id-16 div.sk-parallel-item::before {content: \"\";position: absolute;border-left: 1px solid gray;box-sizing: border-box;top: 0;bottom: 0;left: 50%;z-index: -1;}#sk-container-id-16 div.sk-parallel-item {display: flex;flex-direction: column;z-index: 1;position: relative;background-color: white;}#sk-container-id-16 div.sk-parallel-item:first-child::after {align-self: flex-end;width: 50%;}#sk-container-id-16 div.sk-parallel-item:last-child::after {align-self: flex-start;width: 50%;}#sk-container-id-16 div.sk-parallel-item:only-child::after {width: 0;}#sk-container-id-16 div.sk-dashed-wrapped {border: 1px dashed gray;margin: 0 0.4em 0.5em 0.4em;box-sizing: border-box;padding-bottom: 0.4em;background-color: white;}#sk-container-id-16 div.sk-label label {font-family: monospace;font-weight: bold;display: inline-block;line-height: 1.2em;}#sk-container-id-16 div.sk-label-container {text-align: center;}#sk-container-id-16 div.sk-container {/* jupyter's `normalize.less` sets `[hidden] { display: none; }` but bootstrap.min.css set `[hidden] { display: none !important; }` so we also need the `!important` here to be able to override the default hidden behavior on the sphinx rendered scikit-learn.org. See: https://github.com/scikit-learn/scikit-learn/issues/21755 */display: inline-block !important;position: relative;}#sk-container-id-16 div.sk-text-repr-fallback {display: none;}</style><div id=\"sk-container-id-16\" class=\"sk-top-container\"><div class=\"sk-text-repr-fallback\"><pre>Pipeline(steps=[(&#x27;scaler&#x27;, StandardScaler()), (&#x27;model&#x27;, LinearRegression())])</pre><b>In a Jupyter environment, please rerun this cell to show the HTML representation or trust the notebook. <br />On GitHub, the HTML representation is unable to render, please try loading this page with nbviewer.org.</b></div><div class=\"sk-container\" hidden><div class=\"sk-item sk-dashed-wrapped\"><div class=\"sk-label-container\"><div class=\"sk-label sk-toggleable\"><input class=\"sk-toggleable__control sk-hidden--visually\" id=\"sk-estimator-id-46\" type=\"checkbox\" ><label for=\"sk-estimator-id-46\" class=\"sk-toggleable__label sk-toggleable__label-arrow\">Pipeline</label><div class=\"sk-toggleable__content\"><pre>Pipeline(steps=[(&#x27;scaler&#x27;, StandardScaler()), (&#x27;model&#x27;, LinearRegression())])</pre></div></div></div><div class=\"sk-serial\"><div class=\"sk-item\"><div class=\"sk-estimator sk-toggleable\"><input class=\"sk-toggleable__control sk-hidden--visually\" id=\"sk-estimator-id-47\" type=\"checkbox\" ><label for=\"sk-estimator-id-47\" class=\"sk-toggleable__label sk-toggleable__label-arrow\">StandardScaler</label><div class=\"sk-toggleable__content\"><pre>StandardScaler()</pre></div></div></div><div class=\"sk-item\"><div class=\"sk-estimator sk-toggleable\"><input class=\"sk-toggleable__control sk-hidden--visually\" id=\"sk-estimator-id-48\" type=\"checkbox\" ><label for=\"sk-estimator-id-48\" class=\"sk-toggleable__label sk-toggleable__label-arrow\">LinearRegression</label><div class=\"sk-toggleable__content\"><pre>LinearRegression()</pre></div></div></div></div></div></div></div>"
      ],
      "text/plain": [
       "Pipeline(steps=[('scaler', StandardScaler()), ('model', LinearRegression())])"
      ]
     },
     "execution_count": 651,
     "metadata": {},
     "output_type": "execute_result"
    }
   ],
   "source": [
    "pipeline = Pipeline(\n",
    "    [\n",
    "        (\"scaler\", StandardScaler()),\n",
    "        (\"model\", LinearRegression()),\n",
    "    ]\n",
    ")\n",
    "pipeline.fit(x_train, y_train)"
   ]
  },
  {
   "attachments": {},
   "cell_type": "markdown",
   "metadata": {},
   "source": [
    "посмотрим коэффиценты модели"
   ]
  },
  {
   "cell_type": "code",
   "execution_count": 652,
   "metadata": {},
   "outputs": [
    {
     "data": {
      "text/plain": [
       "array([ 0.1205505 , -0.16440962, -0.00180018,  0.27471434, -0.05387768,\n",
       "        0.12852464, -0.05879216, -0.35299588,  0.15148295,  0.10354098,\n",
       "        0.24429555, -0.13934799])"
      ]
     },
     "execution_count": 652,
     "metadata": {},
     "output_type": "execute_result"
    }
   ],
   "source": [
    "pipeline.named_steps[\"model\"].coef_"
   ]
  },
  {
   "cell_type": "code",
   "execution_count": 653,
   "metadata": {},
   "outputs": [
    {
     "name": "stdout",
     "output_type": "stream",
     "text": [
      "MAE: 0.5626413884054832\n",
      "MSE: 0.515487459077107\n",
      "RMSE: 0.7179745532239336\n",
      "MAPE: 0.09936697624914362\n",
      "R^2: 0.29168955000733254\n"
     ]
    }
   ],
   "source": [
    "y_pred = pipeline.predict(x_test)\n",
    "print(f'MAE: {mean_absolute_error(y_test, y_pred)}')\n",
    "print(f'MSE: {mean_squared_error(y_test, y_pred)}')\n",
    "print(f'RMSE: {sqrt(mean_squared_error(y_test, y_pred))}')\n",
    "print(f'MAPE: {mean_absolute_percentage_error(y_test, y_pred)}')\n",
    "print(f'R^2: {pipeline.score(x_test, y_test)}')"
   ]
  },
  {
   "attachments": {},
   "cell_type": "markdown",
   "metadata": {},
   "source": [
    "Коэффицент детерминации уже выше, значит модель более точна, но это все равно очень низкий результат, попробуем использовать лассо"
   ]
  },
  {
   "attachments": {},
   "cell_type": "markdown",
   "metadata": {},
   "source": [
    "строим пайплайн и подбираем коэффиценты"
   ]
  },
  {
   "cell_type": "code",
   "execution_count": 654,
   "metadata": {},
   "outputs": [
    {
     "data": {
      "text/plain": [
       "{'model__alpha': 0.2}"
      ]
     },
     "execution_count": 654,
     "metadata": {},
     "output_type": "execute_result"
    }
   ],
   "source": [
    "pipeline = Pipeline(\n",
    "    [\n",
    "        (\"scaler\", MinMaxScaler()),\n",
    "        (\"model\", Lasso()),\n",
    "    ]\n",
    ")\n",
    "\n",
    "param_grid = {\n",
    "    \"model__alpha\": np.arange(0.2, 1.2, 0.2)\n",
    "}\n",
    "\n",
    "gridsearch = GridSearchCV(pipeline, param_grid, scoring=\"r2\")\n",
    "gridsearch.fit(x_train, y_train)\n",
    "best_params = gridsearch.best_params_\n",
    "best_params"
   ]
  },
  {
   "cell_type": "code",
   "execution_count": 655,
   "metadata": {},
   "outputs": [
    {
     "data": {
      "text/html": [
       "<div>\n",
       "<style scoped>\n",
       "    .dataframe tbody tr th:only-of-type {\n",
       "        vertical-align: middle;\n",
       "    }\n",
       "\n",
       "    .dataframe tbody tr th {\n",
       "        vertical-align: top;\n",
       "    }\n",
       "\n",
       "    .dataframe thead th {\n",
       "        text-align: right;\n",
       "    }\n",
       "</style>\n",
       "<table border=\"1\" class=\"dataframe\">\n",
       "  <thead>\n",
       "    <tr style=\"text-align: right;\">\n",
       "      <th></th>\n",
       "      <th>mean_fit_time</th>\n",
       "      <th>std_fit_time</th>\n",
       "      <th>mean_score_time</th>\n",
       "      <th>std_score_time</th>\n",
       "      <th>param_model__alpha</th>\n",
       "      <th>params</th>\n",
       "      <th>split0_test_score</th>\n",
       "      <th>split1_test_score</th>\n",
       "      <th>split2_test_score</th>\n",
       "      <th>split3_test_score</th>\n",
       "      <th>split4_test_score</th>\n",
       "      <th>mean_test_score</th>\n",
       "      <th>std_test_score</th>\n",
       "      <th>rank_test_score</th>\n",
       "    </tr>\n",
       "  </thead>\n",
       "  <tbody>\n",
       "    <tr>\n",
       "      <th>0</th>\n",
       "      <td>0.005007</td>\n",
       "      <td>0.000004</td>\n",
       "      <td>0.002009</td>\n",
       "      <td>0.000018</td>\n",
       "      <td>0.2</td>\n",
       "      <td>{'model__alpha': 0.2}</td>\n",
       "      <td>-0.000066</td>\n",
       "      <td>-0.003081</td>\n",
       "      <td>-0.000712</td>\n",
       "      <td>-0.000035</td>\n",
       "      <td>-0.00194</td>\n",
       "      <td>-0.001167</td>\n",
       "      <td>0.00118</td>\n",
       "      <td>1</td>\n",
       "    </tr>\n",
       "    <tr>\n",
       "      <th>1</th>\n",
       "      <td>0.005205</td>\n",
       "      <td>0.000396</td>\n",
       "      <td>0.001998</td>\n",
       "      <td>0.000004</td>\n",
       "      <td>0.4</td>\n",
       "      <td>{'model__alpha': 0.4}</td>\n",
       "      <td>-0.000066</td>\n",
       "      <td>-0.003081</td>\n",
       "      <td>-0.000712</td>\n",
       "      <td>-0.000035</td>\n",
       "      <td>-0.00194</td>\n",
       "      <td>-0.001167</td>\n",
       "      <td>0.00118</td>\n",
       "      <td>1</td>\n",
       "    </tr>\n",
       "    <tr>\n",
       "      <th>2</th>\n",
       "      <td>0.005203</td>\n",
       "      <td>0.000340</td>\n",
       "      <td>0.002007</td>\n",
       "      <td>0.000005</td>\n",
       "      <td>0.6</td>\n",
       "      <td>{'model__alpha': 0.6000000000000001}</td>\n",
       "      <td>-0.000066</td>\n",
       "      <td>-0.003081</td>\n",
       "      <td>-0.000712</td>\n",
       "      <td>-0.000035</td>\n",
       "      <td>-0.00194</td>\n",
       "      <td>-0.001167</td>\n",
       "      <td>0.00118</td>\n",
       "      <td>1</td>\n",
       "    </tr>\n",
       "    <tr>\n",
       "      <th>3</th>\n",
       "      <td>0.005199</td>\n",
       "      <td>0.000403</td>\n",
       "      <td>0.001805</td>\n",
       "      <td>0.000398</td>\n",
       "      <td>0.8</td>\n",
       "      <td>{'model__alpha': 0.8}</td>\n",
       "      <td>-0.000066</td>\n",
       "      <td>-0.003081</td>\n",
       "      <td>-0.000712</td>\n",
       "      <td>-0.000035</td>\n",
       "      <td>-0.00194</td>\n",
       "      <td>-0.001167</td>\n",
       "      <td>0.00118</td>\n",
       "      <td>1</td>\n",
       "    </tr>\n",
       "    <tr>\n",
       "      <th>4</th>\n",
       "      <td>0.005005</td>\n",
       "      <td>0.000006</td>\n",
       "      <td>0.001998</td>\n",
       "      <td>0.000007</td>\n",
       "      <td>1.0</td>\n",
       "      <td>{'model__alpha': 1.0}</td>\n",
       "      <td>-0.000066</td>\n",
       "      <td>-0.003081</td>\n",
       "      <td>-0.000712</td>\n",
       "      <td>-0.000035</td>\n",
       "      <td>-0.00194</td>\n",
       "      <td>-0.001167</td>\n",
       "      <td>0.00118</td>\n",
       "      <td>1</td>\n",
       "    </tr>\n",
       "  </tbody>\n",
       "</table>\n",
       "</div>"
      ],
      "text/plain": [
       "   mean_fit_time  std_fit_time  mean_score_time  std_score_time  \\\n",
       "0       0.005007      0.000004         0.002009        0.000018   \n",
       "1       0.005205      0.000396         0.001998        0.000004   \n",
       "2       0.005203      0.000340         0.002007        0.000005   \n",
       "3       0.005199      0.000403         0.001805        0.000398   \n",
       "4       0.005005      0.000006         0.001998        0.000007   \n",
       "\n",
       "  param_model__alpha                                params  split0_test_score  \\\n",
       "0                0.2                 {'model__alpha': 0.2}          -0.000066   \n",
       "1                0.4                 {'model__alpha': 0.4}          -0.000066   \n",
       "2                0.6  {'model__alpha': 0.6000000000000001}          -0.000066   \n",
       "3                0.8                 {'model__alpha': 0.8}          -0.000066   \n",
       "4                1.0                 {'model__alpha': 1.0}          -0.000066   \n",
       "\n",
       "   split1_test_score  split2_test_score  split3_test_score  split4_test_score  \\\n",
       "0          -0.003081          -0.000712          -0.000035           -0.00194   \n",
       "1          -0.003081          -0.000712          -0.000035           -0.00194   \n",
       "2          -0.003081          -0.000712          -0.000035           -0.00194   \n",
       "3          -0.003081          -0.000712          -0.000035           -0.00194   \n",
       "4          -0.003081          -0.000712          -0.000035           -0.00194   \n",
       "\n",
       "   mean_test_score  std_test_score  rank_test_score  \n",
       "0        -0.001167         0.00118                1  \n",
       "1        -0.001167         0.00118                1  \n",
       "2        -0.001167         0.00118                1  \n",
       "3        -0.001167         0.00118                1  \n",
       "4        -0.001167         0.00118                1  "
      ]
     },
     "execution_count": 655,
     "metadata": {},
     "output_type": "execute_result"
    }
   ],
   "source": [
    "pd.DataFrame(gridsearch.cv_results_)"
   ]
  },
  {
   "attachments": {},
   "cell_type": "markdown",
   "metadata": {},
   "source": [
    "подставим гмперпараметр в модель и обучим ее"
   ]
  },
  {
   "cell_type": "code",
   "execution_count": 656,
   "metadata": {},
   "outputs": [
    {
     "name": "stdout",
     "output_type": "stream",
     "text": [
      "MAE: 0.6490480786716467\n",
      "MSE: 0.7277705409755885\n",
      "RMSE: 0.853094684648538\n",
      "MAPE: 0.11556702617259083\n",
      "R^2: -3.936607706478412e-08\n"
     ]
    }
   ],
   "source": [
    "pipeline.set_params(**best_params).fit(x_train, y_train)\n",
    "y_pred = pipeline.predict(x_test)\n",
    "\n",
    "print(f'MAE: {mean_absolute_error(y_test, y_pred)}')\n",
    "print(f'MSE: {mean_squared_error(y_test, y_pred)}')\n",
    "print(f'RMSE: {sqrt(mean_squared_error(y_test, y_pred))}')\n",
    "print(f'MAPE: {mean_absolute_percentage_error(y_test, y_pred)}')\n",
    "print(f'R^2: {pipeline.score(x_test, y_test)}')"
   ]
  },
  {
   "attachments": {},
   "cell_type": "markdown",
   "metadata": {},
   "source": [
    "Лассо опять свела модель к константномуу предсказанию, думаю так будет и для полиномиальной регрессии. Попробуем с ридж регуляризацией"
   ]
  },
  {
   "cell_type": "code",
   "execution_count": 657,
   "metadata": {},
   "outputs": [
    {
     "data": {
      "text/plain": [
       "{'model__alpha': 0.2}"
      ]
     },
     "execution_count": 657,
     "metadata": {},
     "output_type": "execute_result"
    }
   ],
   "source": [
    "pipeline = Pipeline(\n",
    "    [\n",
    "        (\"scaler\", MinMaxScaler()),\n",
    "        (\"model\", Ridge()),\n",
    "    ]\n",
    ")\n",
    "\n",
    "param_grid = {\n",
    "    \"model__alpha\": np.arange(0.2, 1.2, 0.2)\n",
    "}\n",
    "\n",
    "gridsearch = GridSearchCV(pipeline, param_grid, scoring=\"r2\")\n",
    "gridsearch.fit(x_train, y_train)\n",
    "best_params = gridsearch.best_params_\n",
    "best_params"
   ]
  },
  {
   "cell_type": "code",
   "execution_count": 658,
   "metadata": {},
   "outputs": [
    {
     "name": "stdout",
     "output_type": "stream",
     "text": [
      "MAE: 0.5627641412248544\n",
      "MSE: 0.5159583594007862\n",
      "RMSE: 0.7183024150041445\n",
      "MAPE: 0.09939609572573406\n",
      "R^2: 0.2910425049351516\n"
     ]
    }
   ],
   "source": [
    "pipeline.set_params(**best_params).fit(x_train, y_train)\n",
    "y_pred = pipeline.predict(x_test)\n",
    "\n",
    "print(f'MAE: {mean_absolute_error(y_test, y_pred)}')\n",
    "print(f'MSE: {mean_squared_error(y_test, y_pred)}')\n",
    "print(f'RMSE: {sqrt(mean_squared_error(y_test, y_pred))}')\n",
    "print(f'MAPE: {mean_absolute_percentage_error(y_test, y_pred)}')\n",
    "print(f'R^2: {pipeline.score(x_test, y_test)}')"
   ]
  },
  {
   "attachments": {},
   "cell_type": "markdown",
   "metadata": {},
   "source": [
    "Ридж опять показал себя неплохо(относительно лассо), время эластик нет"
   ]
  },
  {
   "cell_type": "code",
   "execution_count": 659,
   "metadata": {},
   "outputs": [
    {
     "name": "stdout",
     "output_type": "stream",
     "text": [
      "MAE: 0.6490480786716467\n",
      "MSE: 0.7277705409755885\n",
      "RMSE: 0.853094684648538\n",
      "MAPE: 0.11556702617259083\n",
      "R^2: -3.936607706478412e-08\n"
     ]
    }
   ],
   "source": [
    "pipeline = Pipeline(\n",
    "    [\n",
    "        (\"scaler\", MinMaxScaler()),\n",
    "        (\"model\", ElasticNet()),\n",
    "    ]\n",
    ")\n",
    "\n",
    "param_grid = {\n",
    "    \"model__l1_ratio\": np.arange(0.2, 1, 0.2)\n",
    "}\n",
    "\n",
    "gridsearch = GridSearchCV(pipeline, param_grid, scoring=\"r2\")\n",
    "gridsearch.fit(x_train, y_train)\n",
    "best_params = gridsearch.best_params_\n",
    "\n",
    "pipeline.set_params(**best_params).fit(x_train, y_train)\n",
    "y_pred = pipeline.predict(x_test)\n",
    "\n",
    "print(f'MAE: {mean_absolute_error(y_test, y_pred)}')\n",
    "print(f'MSE: {mean_squared_error(y_test, y_pred)}')\n",
    "print(f'RMSE: {sqrt(mean_squared_error(y_test, y_pred))}')\n",
    "print(f'MAPE: {mean_absolute_percentage_error(y_test, y_pred)}')\n",
    "print(f'R^2: {pipeline.score(x_test, y_test)}')"
   ]
  },
  {
   "attachments": {},
   "cell_type": "markdown",
   "metadata": {},
   "source": [
    "у меня модели видимо просто говорят: \"4\""
   ]
  },
  {
   "attachments": {},
   "cell_type": "markdown",
   "metadata": {},
   "source": [
    "## Последняя надежда, Полиномиальная регрессия"
   ]
  },
  {
   "attachments": {},
   "cell_type": "markdown",
   "metadata": {},
   "source": [
    "Буду использовать множественную регрессию"
   ]
  },
  {
   "cell_type": "code",
   "execution_count": 660,
   "metadata": {},
   "outputs": [],
   "source": [
    "pipeline = Pipeline(\n",
    "    [\n",
    "        (\"scaler\", MinMaxScaler()),\n",
    "        (\"polynomial\", PolynomialFeatures(2)),\n",
    "        (\"model\", LinearRegression()),\n",
    "        \n",
    "    ]\n",
    ")"
   ]
  },
  {
   "cell_type": "code",
   "execution_count": 661,
   "metadata": {},
   "outputs": [
    {
     "name": "stdout",
     "output_type": "stream",
     "text": [
      "MAE: 0.5439851483360975\n",
      "MSE: 0.47446137776878655\n",
      "RMSE: 0.6888115691310552\n",
      "MAPE: 0.09588342835035842\n",
      "R^2: 0.3480618275501418\n"
     ]
    },
    {
     "data": {
      "text/plain": [
       "0.5520094562647754"
      ]
     },
     "execution_count": 661,
     "metadata": {},
     "output_type": "execute_result"
    }
   ],
   "source": [
    "pipeline.fit(x_train, y_train)\n",
    "y_pred = pipeline.predict(x_test)\n",
    "\n",
    "print(f'MAE: {mean_absolute_error(y_test, y_pred)}')\n",
    "print(f'MSE: {mean_squared_error(y_test, y_pred)}')\n",
    "print(f'RMSE: {sqrt(mean_squared_error(y_test, y_pred))}')\n",
    "print(f'MAPE: {mean_absolute_percentage_error(y_test, y_pred)}')\n",
    "print(f'R^2: {pipeline.score(x_test, y_test)}')\n",
    "\n",
    "from sklearn.svm import SVC\n",
    "pipe = Pipeline([('scaler', StandardScaler()), ('svc', SVC())])\n",
    "pipe.fit(x_train, y_train).score(x_test, y_test)"
   ]
  },
  {
   "attachments": {},
   "cell_type": "markdown",
   "metadata": {},
   "source": [
    "Я попробовал степень 2, 3, 4, 5 и самая эффективная-2, будем использовать ее в следующих моделях"
   ]
  },
  {
   "attachments": {},
   "cell_type": "markdown",
   "metadata": {},
   "source": [
    "воспользуемся лассо"
   ]
  },
  {
   "cell_type": "code",
   "execution_count": 662,
   "metadata": {},
   "outputs": [
    {
     "name": "stdout",
     "output_type": "stream",
     "text": [
      "MAE: 0.6490480786716467\n",
      "MSE: 0.7277705409755885\n",
      "RMSE: 0.853094684648538\n",
      "MAPE: 0.11556702617259083\n",
      "R^2: -3.936607706478412e-08\n"
     ]
    }
   ],
   "source": [
    "pipeline = Pipeline(\n",
    "    [\n",
    "        (\"scaler\", MinMaxScaler()),\n",
    "        (\"polynomial\", PolynomialFeatures(2)),\n",
    "        (\"model\", Lasso()),\n",
    "    ]\n",
    ")\n",
    "\n",
    "param_grid = {\n",
    "    \"model__alpha\": np.arange(0.1, 1.1, 0.1)\n",
    "}\n",
    "\n",
    "gridsearch = GridSearchCV(pipeline, param_grid, scoring=\"r2\")\n",
    "gridsearch.fit(x_train, y_train)\n",
    "best_params = gridsearch.best_params_\n",
    "\n",
    "pipeline.set_params(**best_params).fit(x_train, y_train)\n",
    "y_pred = pipeline.predict(x_test)\n",
    "\n",
    "print(f'MAE: {mean_absolute_error(y_test, y_pred)}')\n",
    "print(f'MSE: {mean_squared_error(y_test, y_pred)}')\n",
    "print(f'RMSE: {sqrt(mean_squared_error(y_test, y_pred))}')\n",
    "print(f'MAPE: {mean_absolute_percentage_error(y_test, y_pred)}')\n",
    "print(f'R^2: {pipeline.score(x_test, y_test)}')"
   ]
  },
  {
   "attachments": {},
   "cell_type": "markdown",
   "metadata": {},
   "source": [
    "лаccо не справилось, следующее ридж"
   ]
  },
  {
   "cell_type": "code",
   "execution_count": 663,
   "metadata": {},
   "outputs": [
    {
     "name": "stdout",
     "output_type": "stream",
     "text": [
      "MAE: 0.5396104315723633\n",
      "MSE: 0.4694137041861879\n",
      "RMSE: 0.6851377264362165\n",
      "MAPE: 0.09508950247062947\n",
      "R^2: 0.3549976314843589\n"
     ]
    }
   ],
   "source": [
    "pipeline = Pipeline(\n",
    "    [\n",
    "        (\"scaler\", MinMaxScaler()),\n",
    "        (\"polynomial\", PolynomialFeatures(2)),\n",
    "        (\"model\", Ridge()),\n",
    "    ]\n",
    ")\n",
    "\n",
    "param_grid = {\n",
    "    \"model__alpha\": np.arange(0.1, 1.1, 0.1)\n",
    "}\n",
    "\n",
    "gridsearch = GridSearchCV(pipeline, param_grid, scoring=\"r2\")\n",
    "gridsearch.fit(x_train, y_train)\n",
    "best_params = gridsearch.best_params_\n",
    "\n",
    "pipeline.set_params(**best_params).fit(x_train, y_train)\n",
    "y_pred = pipeline.predict(x_test)\n",
    "\n",
    "print(f'MAE: {mean_absolute_error(y_test, y_pred)}')\n",
    "print(f'MSE: {mean_squared_error(y_test, y_pred)}')\n",
    "print(f'RMSE: {sqrt(mean_squared_error(y_test, y_pred))}')\n",
    "print(f'MAPE: {mean_absolute_percentage_error(y_test, y_pred)}')\n",
    "print(f'R^2: {pipeline.score(x_test, y_test)}')"
   ]
  },
  {
   "attachments": {},
   "cell_type": "markdown",
   "metadata": {},
   "source": [
    "Эластик нэт"
   ]
  },
  {
   "cell_type": "code",
   "execution_count": 664,
   "metadata": {},
   "outputs": [
    {
     "name": "stdout",
     "output_type": "stream",
     "text": [
      "MAE: 0.6153050086027108\n",
      "MSE: 0.6564006953447046\n",
      "RMSE: 0.810185593148079\n",
      "MAPE: 0.10980557376556882\n",
      "R^2: 0.09806637638188953\n"
     ]
    }
   ],
   "source": [
    "pipeline = Pipeline(\n",
    "    [\n",
    "        (\"scaler\", MinMaxScaler()),\n",
    "        (\"polynomial\", PolynomialFeatures(2)),\n",
    "        (\"model\", ElasticNet()),\n",
    "    ]\n",
    ")\n",
    "\n",
    "param_grid = {\n",
    "    \"model__alpha\": np.arange(0.1, 1.1, 0.1)\n",
    "}\n",
    "\n",
    "gridsearch = GridSearchCV(pipeline, param_grid, scoring=\"r2\")\n",
    "gridsearch.fit(x_train, y_train)\n",
    "best_params = gridsearch.best_params_\n",
    "\n",
    "pipeline.set_params(**best_params).fit(x_train, y_train)\n",
    "y_pred = pipeline.predict(x_test)\n",
    "\n",
    "print(f'MAE: {mean_absolute_error(y_test, y_pred)}')\n",
    "print(f'MSE: {mean_squared_error(y_test, y_pred)}')\n",
    "print(f'RMSE: {sqrt(mean_squared_error(y_test, y_pred))}')\n",
    "print(f'MAPE: {mean_absolute_percentage_error(y_test, y_pred)}')\n",
    "print(f'R^2: {pipeline.score(x_test, y_test)}')"
   ]
  },
  {
   "attachments": {},
   "cell_type": "markdown",
   "metadata": {},
   "source": [
    "В общем зачете побеждает модель полиномиальной регрессии со степенью 2 без регуляризации, хотя победой это назвать сложно, ридж регуляризация почти не влияла на результат, а лассо сводила модель к константному предсказанию"
   ]
  },
  {
   "attachments": {},
   "cell_type": "markdown",
   "metadata": {},
   "source": [
    "Метод опорных векторов"
   ]
  },
  {
   "cell_type": "code",
   "execution_count": 677,
   "metadata": {},
   "outputs": [
    {
     "name": "stderr",
     "output_type": "stream",
     "text": [
      "c:\\Users\\User\\ml-labs\\venv\\lib\\site-packages\\sklearn\\utils\\validation.py:1183: DataConversionWarning: A column-vector y was passed when a 1d array was expected. Please change the shape of y to (n_samples, ), for example using ravel().\n",
      "  y = column_or_1d(y, warn=True)\n"
     ]
    },
    {
     "data": {
      "image/png": "[encoded data removed]",
      "text/plain": [
       "<Figure size 640x480 with 1 Axes>"
      ]
     },
     "metadata": {},
     "output_type": "display_data"
    },
    {
     "name": "stdout",
     "output_type": "stream",
     "text": [
      "MAE: 0.5508274231678487\n",
      "MSE: 0.7021276595744681\n",
      "RMSE: 0.8379305815963922\n",
      "MAPE: 0.09742204210289317\n",
      "R^2: 0.5189125295508275\n"
     ]
    }
   ],
   "source": [
    "pipeline = Pipeline(\n",
    "    [\n",
    "        ('minmaxscaler', MinMaxScaler()),\n",
    "        ('model', SVC()),\n",
    "    ]\n",
    ")\n",
    "y = pd.DataFrame(data[\"quality\"])\n",
    "x = pd.DataFrame(data[\"alcohol\"])\n",
    "x_train, x_test, y_train, y_test = train_test_split(x, y, test_size=0.2)\n",
    "lr = pipeline.fit(x_train, y_train)\n",
    "\n",
    "y_pred = pd.DataFrame(lr.predict(x_test))\n",
    "plt.scatter(x=x_test, y=y_test)\n",
    "plt.plot(x_test, y_pred, c=\"orange\")\n",
    "plt.xlabel(\"alcohol\")\n",
    "plt.ylabel(\"quality\")\n",
    "plt.show()\n",
    "print(f'MAE: {mean_absolute_error(y_test, y_pred)}')\n",
    "print(f'MSE: {mean_squared_error(y_test, y_pred)}')\n",
    "print(f'RMSE: {sqrt(mean_squared_error(y_test, y_pred))}')\n",
    "print(f'MAPE: {mean_absolute_percentage_error(y_test, y_pred)}')\n",
    "print(f'R^2: {lr.score(x_test, y_test)}')"
   ]
  },
  {
   "attachments": {},
   "cell_type": "markdown",
   "metadata": {},
   "source": [
    "## Реалезуем метрики самостоятельно"
   ]
  },
  {
   "attachments": {},
   "cell_type": "markdown",
   "metadata": {},
   "source": [
    "MAE"
   ]
  },
  {
   "cell_type": "code",
   "execution_count": 665,
   "metadata": {},
   "outputs": [
    {
     "name": "stdout",
     "output_type": "stream",
     "text": [
      "MAE: 0.6153050086027108, My MAE: 0.6153050086027108\n"
     ]
    }
   ],
   "source": [
    "def MAE(y_test, y_pred):\n",
    "  return  abs(y_test-y_pred).mean()\n",
    "\n",
    "print(f'MAE: {mean_absolute_error(y_test, y_pred)}, My MAE: {MAE(y_test, y_pred)}')"
   ]
  },
  {
   "attachments": {},
   "cell_type": "markdown",
   "metadata": {},
   "source": [
    "MSE"
   ]
  },
  {
   "cell_type": "code",
   "execution_count": 666,
   "metadata": {},
   "outputs": [
    {
     "name": "stdout",
     "output_type": "stream",
     "text": [
      "MAE: 0.6153050086027108, My MAE: 0.6564006953447046\n"
     ]
    }
   ],
   "source": [
    "def MSE(y_test, y_pred):\n",
    "  return  ((y_test-y_pred)**2).mean()\n",
    "\n",
    "print(f'MAE: {mean_absolute_error(y_test, y_pred)}, My MAE: {MSE(y_test, y_pred)}')"
   ]
  },
  {
   "attachments": {},
   "cell_type": "markdown",
   "metadata": {},
   "source": [
    "RMSE"
   ]
  },
  {
   "cell_type": "code",
   "execution_count": 667,
   "metadata": {},
   "outputs": [
    {
     "name": "stdout",
     "output_type": "stream",
     "text": [
      "RMSE: 0.810185593148079, My RMSE: 0.810185593148079\n"
     ]
    }
   ],
   "source": [
    "def RMSE(y_test, y_pred):\n",
    "  return  sqrt(MSE(y_test, y_pred))\n",
    "\n",
    "print(f'RMSE: {sqrt(mean_squared_error(y_test, y_pred))}, My RMSE: {RMSE(y_test, y_pred)}')"
   ]
  },
  {
   "attachments": {},
   "cell_type": "markdown",
   "metadata": {},
   "source": [
    "MAPE"
   ]
  },
  {
   "cell_type": "code",
   "execution_count": 668,
   "metadata": {},
   "outputs": [
    {
     "name": "stdout",
     "output_type": "stream",
     "text": [
      "MAPE: 0.10980557376556882, My_MAPE: 0.10505510338605314\n"
     ]
    }
   ],
   "source": [
    "def MAPE(y_test, y_pred):\n",
    "  return  MAE(y_test, y_pred) / abs(y_test) .mean()\n",
    "\n",
    "print(f'MAPE: {mean_absolute_percentage_error(y_test, y_pred)}, My_MAPE: {MAPE(y_test,y_pred)}')"
   ]
  },
  {
   "attachments": {},
   "cell_type": "markdown",
   "metadata": {},
   "source": [
    "R2"
   ]
  },
  {
   "cell_type": "code",
   "execution_count": 676,
   "metadata": {},
   "outputs": [
    {
     "name": "stdout",
     "output_type": "stream",
     "text": [
      "R^2: 0.09806637638188953, My r2: 0.09806637638188964\n"
     ]
    }
   ],
   "source": [
    "def R2(y_test, y_pred):\n",
    "  return  1 - MSE(y_test, y_pred)/ ((y_test- y_test.mean())**2).mean()\n",
    "print(f'R^2: {pipeline.score(x_test, y_test)}, My r2: {R2(y_test, y_pred)}')"
   ]
  }
 ],
 "metadata": {
  "kernelspec": {
   "display_name": "venv",
   "language": "python",
   "name": "python3"
  },
  "language_info": {
   "codemirror_mode": {
    "name": "ipython",
    "version": 3
   },
   "file_extension": ".py",
   "mimetype": "text/x-python",
   "name": "python",
   "nbconvert_exporter": "python",
   "pygments_lexer": "ipython3",
   "version": "3.10.1"
  },
  "orig_nbformat": 4
 },
 "nbformat": 4,
 "nbformat_minor": 2
}
