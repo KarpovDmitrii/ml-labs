{
  "cells": [
    {
      "attachments": {},
      "cell_type": "markdown",
      "metadata": {
        "id": "V2h7ifqczQ8z"
      },
      "source": [
        "# **ЗАДАНИЕ.**\n",
        "<br>\n",
        "Реализуйте первичный анализ данных о фильмах. Для этого используйте набор данных <b>Dataset1.csv</b>. При выполнении задания выполните следующее.\n",
        "<br>\n",
        "1. Cформулируйте три гипотезы и проверьте правильность своих предположений, подробно поясняя как в приведенном выше проекте.\n",
        "<br>\n",
        "Чтобы иметь возможность сравнивать фильмы разных лет, необходимо будет преобразовать валовую и бюджетную стоимость в реальные суммы в долларах с точки зрения покупательной способности 2016 года. Для этого используйте индекс потребительских цен (Consumer Price Index, CPI) с поправкой на инфляцию (https://www.usinflationcalculator.com/inflation/consumer-price-index-and-annual-percent-changes-from-1913-to-2008/).\n",
        "<br>\n",
        "Посчитайте значения CPI за каждый год с 1913 по 2017 гг включительно. Используя <i>Калькулятор инфляции в США</i> в качестве источника и постройте DataFrame.\n",
        "<br>\n",
        "Пример кода представлен в файле <b>Задание.pdf</b>\n",
        "Полученную таблицу, содержащую CPI, экспортируйте в файл формата *.csv с именем  <font color=blue>Lab1_Фамилия_CPI</font>, например, <font color=blue><i>Lab1_Ivanov_CPI.csv</i></font>\n",
        "<br>\n",
        "<font color=green><u>Самостоятельно изучите команду экспорта датафрейма в файл CSV</u></font>:\n",
        "https://pandas.pydata.org/docs/reference/api/pandas.DataFrame.to_csv.html\n",
        "<br><br>\n",
        "2. Обработанный датафрейм экспортируйте в файл формата *.csv с именем  <font color=blue>Lab1_Фамилия_группа</font>, например, <font color=blue><i>Lab1_Ivanov_MO-221.csv</i></font>\n"
      ]
    },
    {
      "cell_type": "code",
      "execution_count": 1,
      "metadata": {},
      "outputs": [],
      "source": [
        "import pandas as pd"
      ]
    },
    {
      "attachments": {},
      "cell_type": "markdown",
      "metadata": {},
      "source": [
        "Получим информацию о датасете"
      ]
    },
    {
      "cell_type": "code",
      "execution_count": 2,
      "metadata": {},
      "outputs": [
        {
          "data": {
            "text/html": [
              "<div>\n",
              "<style scoped>\n",
              "    .dataframe tbody tr th:only-of-type {\n",
              "        vertical-align: middle;\n",
              "    }\n",
              "\n",
              "    .dataframe tbody tr th {\n",
              "        vertical-align: top;\n",
              "    }\n",
              "\n",
              "    .dataframe thead th {\n",
              "        text-align: right;\n",
              "    }\n",
              "</style>\n",
              "<table border=\"1\" class=\"dataframe\">\n",
              "  <thead>\n",
              "    <tr style=\"text-align: right;\">\n",
              "      <th></th>\n",
              "      <th>color</th>\n",
              "      <th>Director_Name</th>\n",
              "      <th>num_Critic_for_reviews</th>\n",
              "      <th>duration</th>\n",
              "      <th>director_Facebook_likes</th>\n",
              "      <th>actor_3_Facebook_likes</th>\n",
              "      <th>actor_2_name</th>\n",
              "      <th>Actor_1_Facebook_likes</th>\n",
              "      <th>gross</th>\n",
              "      <th>genres</th>\n",
              "      <th>...</th>\n",
              "      <th>num_user_for_reviews</th>\n",
              "      <th>language</th>\n",
              "      <th>country</th>\n",
              "      <th>content_rating</th>\n",
              "      <th>budget</th>\n",
              "      <th>title_year</th>\n",
              "      <th>actor_2_facebook_likes</th>\n",
              "      <th>imdb_score</th>\n",
              "      <th>aspect_ratio</th>\n",
              "      <th>movie_facebook_likes;</th>\n",
              "    </tr>\n",
              "  </thead>\n",
              "  <tbody>\n",
              "    <tr>\n",
              "      <th>0</th>\n",
              "      <td>Color</td>\n",
              "      <td>James Cameron</td>\n",
              "      <td>723.0</td>\n",
              "      <td>178.0</td>\n",
              "      <td>0.0</td>\n",
              "      <td>855.0</td>\n",
              "      <td>Joel David Moore</td>\n",
              "      <td>1000.0</td>\n",
              "      <td>760505847.0</td>\n",
              "      <td>Action|Adventure|Fantasy|Sci-Fi</td>\n",
              "      <td>...</td>\n",
              "      <td>3054.0</td>\n",
              "      <td>English</td>\n",
              "      <td>USA</td>\n",
              "      <td>PG-13</td>\n",
              "      <td>237000000.0</td>\n",
              "      <td>2009.0</td>\n",
              "      <td>936.0</td>\n",
              "      <td>7.9</td>\n",
              "      <td>1.78</td>\n",
              "      <td>33000;</td>\n",
              "    </tr>\n",
              "    <tr>\n",
              "      <th>1</th>\n",
              "      <td>Colour</td>\n",
              "      <td>Gore Verbinski</td>\n",
              "      <td>302.0</td>\n",
              "      <td>169.0</td>\n",
              "      <td>563.0</td>\n",
              "      <td>1000.0</td>\n",
              "      <td>Orlando Bloom</td>\n",
              "      <td>40000.0</td>\n",
              "      <td>309404152.0</td>\n",
              "      <td>Action|Adventure|Fantasy</td>\n",
              "      <td>...</td>\n",
              "      <td>1238.0</td>\n",
              "      <td>English</td>\n",
              "      <td>USA</td>\n",
              "      <td>PG-13</td>\n",
              "      <td>300000000.0</td>\n",
              "      <td>2007.0</td>\n",
              "      <td>5000.0</td>\n",
              "      <td>7.1</td>\n",
              "      <td>2.35</td>\n",
              "      <td>0;</td>\n",
              "    </tr>\n",
              "    <tr>\n",
              "      <th>2</th>\n",
              "      <td>Colour</td>\n",
              "      <td>Sam Mendes</td>\n",
              "      <td>602.0</td>\n",
              "      <td>148.0</td>\n",
              "      <td>0.0</td>\n",
              "      <td>161.0</td>\n",
              "      <td>Rory Kinnear</td>\n",
              "      <td>11000.0</td>\n",
              "      <td>200074175.0</td>\n",
              "      <td>Action|Adventure|Thriller</td>\n",
              "      <td>...</td>\n",
              "      <td>994.0</td>\n",
              "      <td>English</td>\n",
              "      <td>UK</td>\n",
              "      <td>PG-13</td>\n",
              "      <td>245000000.0</td>\n",
              "      <td>2015.0</td>\n",
              "      <td>393.0</td>\n",
              "      <td>6.8</td>\n",
              "      <td>2.35</td>\n",
              "      <td>85000;</td>\n",
              "    </tr>\n",
              "    <tr>\n",
              "      <th>3</th>\n",
              "      <td>Color</td>\n",
              "      <td>Christopher Nolan</td>\n",
              "      <td>813.0</td>\n",
              "      <td>164.0</td>\n",
              "      <td>22000.0</td>\n",
              "      <td>23000.0</td>\n",
              "      <td>Christian Bale</td>\n",
              "      <td>27000.0</td>\n",
              "      <td>448130642.0</td>\n",
              "      <td>Action|Thriller</td>\n",
              "      <td>...</td>\n",
              "      <td>2701.0</td>\n",
              "      <td>English</td>\n",
              "      <td>USA</td>\n",
              "      <td>PG-13</td>\n",
              "      <td>250000000.0</td>\n",
              "      <td>2012.0</td>\n",
              "      <td>23000.0</td>\n",
              "      <td>8.5</td>\n",
              "      <td>2.35</td>\n",
              "      <td>164000;</td>\n",
              "    </tr>\n",
              "    <tr>\n",
              "      <th>4</th>\n",
              "      <td>NaN</td>\n",
              "      <td>Doug Walker</td>\n",
              "      <td>NaN</td>\n",
              "      <td>NaN</td>\n",
              "      <td>131.0</td>\n",
              "      <td>NaN</td>\n",
              "      <td>Rob Walker</td>\n",
              "      <td>131.0</td>\n",
              "      <td>NaN</td>\n",
              "      <td>Documentary</td>\n",
              "      <td>...</td>\n",
              "      <td>NaN</td>\n",
              "      <td>NaN</td>\n",
              "      <td>NaN</td>\n",
              "      <td>NaN</td>\n",
              "      <td>NaN</td>\n",
              "      <td>NaN</td>\n",
              "      <td>12.0</td>\n",
              "      <td>7.1</td>\n",
              "      <td>NaN</td>\n",
              "      <td>0;</td>\n",
              "    </tr>\n",
              "    <tr>\n",
              "      <th>5</th>\n",
              "      <td>Colour</td>\n",
              "      <td>Andrew Stanton</td>\n",
              "      <td>462.0</td>\n",
              "      <td>132.0</td>\n",
              "      <td>475.0</td>\n",
              "      <td>530.0</td>\n",
              "      <td>Samantha Morton</td>\n",
              "      <td>640.0</td>\n",
              "      <td>73058679.0</td>\n",
              "      <td>Action|Adventure|Sci-Fi</td>\n",
              "      <td>...</td>\n",
              "      <td>738.0</td>\n",
              "      <td>English</td>\n",
              "      <td>USA</td>\n",
              "      <td>PG-13</td>\n",
              "      <td>263700000.0</td>\n",
              "      <td>2012.0</td>\n",
              "      <td>632.0</td>\n",
              "      <td>6.6</td>\n",
              "      <td>2.35</td>\n",
              "      <td>24000;</td>\n",
              "    </tr>\n",
              "    <tr>\n",
              "      <th>6</th>\n",
              "      <td>Color</td>\n",
              "      <td>Sam Raimi</td>\n",
              "      <td>392.0</td>\n",
              "      <td>156.0</td>\n",
              "      <td>0.0</td>\n",
              "      <td>4000.0</td>\n",
              "      <td>James Franco</td>\n",
              "      <td>24000.0</td>\n",
              "      <td>336530303.0</td>\n",
              "      <td>Action|Adventure|Romance</td>\n",
              "      <td>...</td>\n",
              "      <td>1902.0</td>\n",
              "      <td>English</td>\n",
              "      <td>USA</td>\n",
              "      <td>PG-13</td>\n",
              "      <td>258000000.0</td>\n",
              "      <td>2007.0</td>\n",
              "      <td>11000.0</td>\n",
              "      <td>6.2</td>\n",
              "      <td>2.35</td>\n",
              "      <td>0;</td>\n",
              "    </tr>\n",
              "    <tr>\n",
              "      <th>7</th>\n",
              "      <td>Color</td>\n",
              "      <td>Nathan Greno</td>\n",
              "      <td>324.0</td>\n",
              "      <td>100.0</td>\n",
              "      <td>15.0</td>\n",
              "      <td>284.0</td>\n",
              "      <td>Donna Murphy</td>\n",
              "      <td>799.0</td>\n",
              "      <td>200807262.0</td>\n",
              "      <td>Adventure|Animation|Comedy|Family|Fantasy|Musi...</td>\n",
              "      <td>...</td>\n",
              "      <td>387.0</td>\n",
              "      <td>English</td>\n",
              "      <td>USA</td>\n",
              "      <td>PG</td>\n",
              "      <td>260000000.0</td>\n",
              "      <td>2010.0</td>\n",
              "      <td>553.0</td>\n",
              "      <td>7.8</td>\n",
              "      <td>1.85</td>\n",
              "      <td>29000;</td>\n",
              "    </tr>\n",
              "    <tr>\n",
              "      <th>8</th>\n",
              "      <td>Colour</td>\n",
              "      <td>Joss Whedon</td>\n",
              "      <td>635.0</td>\n",
              "      <td>141.0</td>\n",
              "      <td>0.0</td>\n",
              "      <td>19000.0</td>\n",
              "      <td>Robert Downey Jr.</td>\n",
              "      <td>26000.0</td>\n",
              "      <td>458991599.0</td>\n",
              "      <td>Action|Adventure|Sci-Fi</td>\n",
              "      <td>...</td>\n",
              "      <td>1117.0</td>\n",
              "      <td>English</td>\n",
              "      <td>USA</td>\n",
              "      <td>PG-13</td>\n",
              "      <td>250000000.0</td>\n",
              "      <td>2015.0</td>\n",
              "      <td>21000.0</td>\n",
              "      <td>7.5</td>\n",
              "      <td>2.35</td>\n",
              "      <td>118000;</td>\n",
              "    </tr>\n",
              "    <tr>\n",
              "      <th>9</th>\n",
              "      <td>Colour</td>\n",
              "      <td>David Yates</td>\n",
              "      <td>375.0</td>\n",
              "      <td>153.0</td>\n",
              "      <td>282.0</td>\n",
              "      <td>10000.0</td>\n",
              "      <td>Daniel Radcliffe</td>\n",
              "      <td>25000.0</td>\n",
              "      <td>301956980.0</td>\n",
              "      <td>Adventure|Family|Fantasy|Mystery</td>\n",
              "      <td>...</td>\n",
              "      <td>973.0</td>\n",
              "      <td>English</td>\n",
              "      <td>UK</td>\n",
              "      <td>PG</td>\n",
              "      <td>250000000.0</td>\n",
              "      <td>2009.0</td>\n",
              "      <td>11000.0</td>\n",
              "      <td>7.5</td>\n",
              "      <td>2.35</td>\n",
              "      <td>10000;</td>\n",
              "    </tr>\n",
              "    <tr>\n",
              "      <th>10</th>\n",
              "      <td>Color</td>\n",
              "      <td>Zack Snyder</td>\n",
              "      <td>673.0</td>\n",
              "      <td>183.0</td>\n",
              "      <td>0.0</td>\n",
              "      <td>2000.0</td>\n",
              "      <td>Lauren Cohan</td>\n",
              "      <td>15000.0</td>\n",
              "      <td>330249062.0</td>\n",
              "      <td>Action|Adventure|Sci-Fi</td>\n",
              "      <td>...</td>\n",
              "      <td>3018.0</td>\n",
              "      <td>English</td>\n",
              "      <td>USA</td>\n",
              "      <td>PG-13</td>\n",
              "      <td>250000000.0</td>\n",
              "      <td>2016.0</td>\n",
              "      <td>4000.0</td>\n",
              "      <td>6.9</td>\n",
              "      <td>2.35</td>\n",
              "      <td>197000;</td>\n",
              "    </tr>\n",
              "    <tr>\n",
              "      <th>11</th>\n",
              "      <td>Color</td>\n",
              "      <td>Bryan Singer</td>\n",
              "      <td>434.0</td>\n",
              "      <td>169.0</td>\n",
              "      <td>0.0</td>\n",
              "      <td>903.0</td>\n",
              "      <td>Marlon Brando</td>\n",
              "      <td>18000.0</td>\n",
              "      <td>200069408.0</td>\n",
              "      <td>Action|Adventure|Sci-Fi</td>\n",
              "      <td>...</td>\n",
              "      <td>2367.0</td>\n",
              "      <td>English</td>\n",
              "      <td>USA</td>\n",
              "      <td>PG-13</td>\n",
              "      <td>209000000.0</td>\n",
              "      <td>2006.0</td>\n",
              "      <td>10000.0</td>\n",
              "      <td>6.1</td>\n",
              "      <td>2.35</td>\n",
              "      <td>0;</td>\n",
              "    </tr>\n",
              "    <tr>\n",
              "      <th>12</th>\n",
              "      <td>Color</td>\n",
              "      <td>Marc Forster</td>\n",
              "      <td>403.0</td>\n",
              "      <td>106.0</td>\n",
              "      <td>395.0</td>\n",
              "      <td>393.0</td>\n",
              "      <td>Mathieu Amalric</td>\n",
              "      <td>451.0</td>\n",
              "      <td>168368427.0</td>\n",
              "      <td>Action|Adventure</td>\n",
              "      <td>...</td>\n",
              "      <td>1243.0</td>\n",
              "      <td>English</td>\n",
              "      <td>UK</td>\n",
              "      <td>PG-13</td>\n",
              "      <td>200000000.0</td>\n",
              "      <td>2008.0</td>\n",
              "      <td>412.0</td>\n",
              "      <td>6.7</td>\n",
              "      <td>2.35</td>\n",
              "      <td>0;</td>\n",
              "    </tr>\n",
              "    <tr>\n",
              "      <th>13</th>\n",
              "      <td>Color</td>\n",
              "      <td>Gore Verbinski</td>\n",
              "      <td>313.0</td>\n",
              "      <td>151.0</td>\n",
              "      <td>563.0</td>\n",
              "      <td>1000.0</td>\n",
              "      <td>Orlando Bloom</td>\n",
              "      <td>40000.0</td>\n",
              "      <td>423032628.0</td>\n",
              "      <td>Action|Adventure|Fantasy</td>\n",
              "      <td>...</td>\n",
              "      <td>1832.0</td>\n",
              "      <td>English</td>\n",
              "      <td>USA</td>\n",
              "      <td>PG-13</td>\n",
              "      <td>225000000.0</td>\n",
              "      <td>2006.0</td>\n",
              "      <td>5000.0</td>\n",
              "      <td>7.3</td>\n",
              "      <td>2.35</td>\n",
              "      <td>5000;</td>\n",
              "    </tr>\n",
              "    <tr>\n",
              "      <th>14</th>\n",
              "      <td>Color</td>\n",
              "      <td>Gore Verbinski</td>\n",
              "      <td>450.0</td>\n",
              "      <td>150.0</td>\n",
              "      <td>563.0</td>\n",
              "      <td>1000.0</td>\n",
              "      <td>Ruth Wilson</td>\n",
              "      <td>40000.0</td>\n",
              "      <td>89289910.0</td>\n",
              "      <td>Action|Adventure|Western</td>\n",
              "      <td>...</td>\n",
              "      <td>711.0</td>\n",
              "      <td>English</td>\n",
              "      <td>USA</td>\n",
              "      <td>PG-13</td>\n",
              "      <td>215000000.0</td>\n",
              "      <td>2013.0</td>\n",
              "      <td>2000.0</td>\n",
              "      <td>6.5</td>\n",
              "      <td>2.35</td>\n",
              "      <td>48000;</td>\n",
              "    </tr>\n",
              "  </tbody>\n",
              "</table>\n",
              "<p>15 rows × 28 columns</p>\n",
              "</div>"
            ],
            "text/plain": [
              "     color      Director_Name  num_Critic_for_reviews  duration  \\\n",
              "0    Color      James Cameron                   723.0     178.0   \n",
              "1   Colour     Gore Verbinski                   302.0     169.0   \n",
              "2   Colour         Sam Mendes                   602.0     148.0   \n",
              "3    Color  Christopher Nolan                   813.0     164.0   \n",
              "4      NaN        Doug Walker                     NaN       NaN   \n",
              "5   Colour     Andrew Stanton                   462.0     132.0   \n",
              "6    Color          Sam Raimi                   392.0     156.0   \n",
              "7    Color       Nathan Greno                   324.0     100.0   \n",
              "8   Colour        Joss Whedon                   635.0     141.0   \n",
              "9   Colour        David Yates                   375.0     153.0   \n",
              "10   Color        Zack Snyder                   673.0     183.0   \n",
              "11   Color       Bryan Singer                   434.0     169.0   \n",
              "12   Color       Marc Forster                   403.0     106.0   \n",
              "13   Color     Gore Verbinski                   313.0     151.0   \n",
              "14   Color     Gore Verbinski                   450.0     150.0   \n",
              "\n",
              "    director_Facebook_likes  actor_3_Facebook_likes       actor_2_name  \\\n",
              "0                       0.0                   855.0   Joel David Moore   \n",
              "1                     563.0                  1000.0      Orlando Bloom   \n",
              "2                       0.0                   161.0       Rory Kinnear   \n",
              "3                   22000.0                 23000.0     Christian Bale   \n",
              "4                     131.0                     NaN         Rob Walker   \n",
              "5                     475.0                   530.0    Samantha Morton   \n",
              "6                       0.0                  4000.0       James Franco   \n",
              "7                      15.0                   284.0       Donna Murphy   \n",
              "8                       0.0                 19000.0  Robert Downey Jr.   \n",
              "9                     282.0                 10000.0   Daniel Radcliffe   \n",
              "10                      0.0                  2000.0       Lauren Cohan   \n",
              "11                      0.0                   903.0      Marlon Brando   \n",
              "12                    395.0                   393.0    Mathieu Amalric   \n",
              "13                    563.0                  1000.0      Orlando Bloom   \n",
              "14                    563.0                  1000.0        Ruth Wilson   \n",
              "\n",
              "    Actor_1_Facebook_likes        gross  \\\n",
              "0                   1000.0  760505847.0   \n",
              "1                  40000.0  309404152.0   \n",
              "2                  11000.0  200074175.0   \n",
              "3                  27000.0  448130642.0   \n",
              "4                    131.0          NaN   \n",
              "5                    640.0   73058679.0   \n",
              "6                  24000.0  336530303.0   \n",
              "7                    799.0  200807262.0   \n",
              "8                  26000.0  458991599.0   \n",
              "9                  25000.0  301956980.0   \n",
              "10                 15000.0  330249062.0   \n",
              "11                 18000.0  200069408.0   \n",
              "12                   451.0  168368427.0   \n",
              "13                 40000.0  423032628.0   \n",
              "14                 40000.0   89289910.0   \n",
              "\n",
              "                                               genres  ...  \\\n",
              "0                     Action|Adventure|Fantasy|Sci-Fi  ...   \n",
              "1                            Action|Adventure|Fantasy  ...   \n",
              "2                           Action|Adventure|Thriller  ...   \n",
              "3                                     Action|Thriller  ...   \n",
              "4                                         Documentary  ...   \n",
              "5                             Action|Adventure|Sci-Fi  ...   \n",
              "6                            Action|Adventure|Romance  ...   \n",
              "7   Adventure|Animation|Comedy|Family|Fantasy|Musi...  ...   \n",
              "8                             Action|Adventure|Sci-Fi  ...   \n",
              "9                    Adventure|Family|Fantasy|Mystery  ...   \n",
              "10                            Action|Adventure|Sci-Fi  ...   \n",
              "11                            Action|Adventure|Sci-Fi  ...   \n",
              "12                                   Action|Adventure  ...   \n",
              "13                           Action|Adventure|Fantasy  ...   \n",
              "14                           Action|Adventure|Western  ...   \n",
              "\n",
              "   num_user_for_reviews language  country  content_rating       budget  \\\n",
              "0                3054.0  English      USA           PG-13  237000000.0   \n",
              "1                1238.0  English      USA           PG-13  300000000.0   \n",
              "2                 994.0  English       UK           PG-13  245000000.0   \n",
              "3                2701.0  English      USA           PG-13  250000000.0   \n",
              "4                   NaN      NaN      NaN             NaN          NaN   \n",
              "5                 738.0  English      USA           PG-13  263700000.0   \n",
              "6                1902.0  English      USA           PG-13  258000000.0   \n",
              "7                 387.0  English      USA              PG  260000000.0   \n",
              "8                1117.0  English      USA           PG-13  250000000.0   \n",
              "9                 973.0  English       UK              PG  250000000.0   \n",
              "10               3018.0  English      USA           PG-13  250000000.0   \n",
              "11               2367.0  English      USA           PG-13  209000000.0   \n",
              "12               1243.0  English       UK           PG-13  200000000.0   \n",
              "13               1832.0  English      USA           PG-13  225000000.0   \n",
              "14                711.0  English      USA           PG-13  215000000.0   \n",
              "\n",
              "    title_year actor_2_facebook_likes imdb_score  aspect_ratio  \\\n",
              "0       2009.0                  936.0        7.9          1.78   \n",
              "1       2007.0                 5000.0        7.1          2.35   \n",
              "2       2015.0                  393.0        6.8          2.35   \n",
              "3       2012.0                23000.0        8.5          2.35   \n",
              "4          NaN                   12.0        7.1           NaN   \n",
              "5       2012.0                  632.0        6.6          2.35   \n",
              "6       2007.0                11000.0        6.2          2.35   \n",
              "7       2010.0                  553.0        7.8          1.85   \n",
              "8       2015.0                21000.0        7.5          2.35   \n",
              "9       2009.0                11000.0        7.5          2.35   \n",
              "10      2016.0                 4000.0        6.9          2.35   \n",
              "11      2006.0                10000.0        6.1          2.35   \n",
              "12      2008.0                  412.0        6.7          2.35   \n",
              "13      2006.0                 5000.0        7.3          2.35   \n",
              "14      2013.0                 2000.0        6.5          2.35   \n",
              "\n",
              "   movie_facebook_likes;  \n",
              "0                 33000;  \n",
              "1                     0;  \n",
              "2                 85000;  \n",
              "3                164000;  \n",
              "4                     0;  \n",
              "5                 24000;  \n",
              "6                     0;  \n",
              "7                 29000;  \n",
              "8                118000;  \n",
              "9                 10000;  \n",
              "10               197000;  \n",
              "11                    0;  \n",
              "12                    0;  \n",
              "13                 5000;  \n",
              "14                48000;  \n",
              "\n",
              "[15 rows x 28 columns]"
            ]
          },
          "execution_count": 2,
          "metadata": {},
          "output_type": "execute_result"
        }
      ],
      "source": [
        "df =  pd.read_csv(f'C:/Users/User/ml-labs/data/Dataset1.csv')\n",
        "df.head (15)"
      ]
    },
    {
      "cell_type": "code",
      "execution_count": 3,
      "metadata": {},
      "outputs": [
        {
          "name": "stdout",
          "output_type": "stream",
          "text": [
            "<class 'pandas.core.frame.DataFrame'>\n",
            "RangeIndex: 5043 entries, 0 to 5042\n",
            "Data columns (total 28 columns):\n",
            " #   Column                      Non-Null Count  Dtype  \n",
            "---  ------                      --------------  -----  \n",
            " 0   color                       5025 non-null   object \n",
            " 1   Director_Name               4872 non-null   object \n",
            " 2   num_Critic_for_reviews      4927 non-null   float64\n",
            " 3   duration                    4959 non-null   float64\n",
            " 4   director_Facebook_likes     4872 non-null   float64\n",
            " 5   actor_3_Facebook_likes      4953 non-null   float64\n",
            " 6   actor_2_name                4963 non-null   object \n",
            " 7   Actor_1_Facebook_likes      4968 non-null   float64\n",
            " 8   gross                       4104 non-null   float64\n",
            " 9   genres                      4974 non-null   object \n",
            " 10  actor_1_name                4968 non-null   object \n",
            " 11  movie_Title                 4974 non-null   object \n",
            " 12  num_voted_users             4974 non-null   float64\n",
            " 13   cast_total_facebook_likes  4974 non-null   float64\n",
            " 14  actor_3_name                4953 non-null   object \n",
            " 15  facenumber_in_poster        4961 non-null   float64\n",
            " 16  plot_keywords               4827 non-null   object \n",
            " 17  movie_imdb_link             4974 non-null   object \n",
            " 18  num_user_for_reviews        4956 non-null   float64\n",
            " 19  language                    4961 non-null   object \n",
            " 20  country                     4971 non-null   object \n",
            " 21  content_rating              4677 non-null   object \n",
            " 22  budget                      4494 non-null   float64\n",
            " 23  title_year                  4869 non-null   float64\n",
            " 24  actor_2_facebook_likes      4963 non-null   float64\n",
            " 25  imdb_score                  4974 non-null   float64\n",
            " 26  aspect_ratio                4654 non-null   float64\n",
            " 27  movie_facebook_likes;       4974 non-null   object \n",
            "dtypes: float64(15), object(13)\n",
            "memory usage: 1.1+ MB\n"
          ]
        }
      ],
      "source": [
        "df.info()"
      ]
    },
    {
      "cell_type": "code",
      "execution_count": 4,
      "metadata": {},
      "outputs": [
        {
          "data": {
            "text/plain": [
              "Index(['color', 'Director_Name', 'num_Critic_for_reviews', 'duration',\n",
              "       'director_Facebook_likes', 'actor_3_Facebook_likes', 'actor_2_name',\n",
              "       'Actor_1_Facebook_likes', 'gross', 'genres', 'actor_1_name',\n",
              "       'movie_Title', 'num_voted_users', ' cast_total_facebook_likes',\n",
              "       'actor_3_name', 'facenumber_in_poster', 'plot_keywords',\n",
              "       'movie_imdb_link', 'num_user_for_reviews', 'language', 'country',\n",
              "       'content_rating', 'budget', 'title_year', 'actor_2_facebook_likes',\n",
              "       'imdb_score', 'aspect_ratio', 'movie_facebook_likes;'],\n",
              "      dtype='object')"
            ]
          },
          "execution_count": 4,
          "metadata": {},
          "output_type": "execute_result"
        }
      ],
      "source": [
        "df.columns"
      ]
    },
    {
      "attachments": {},
      "cell_type": "markdown",
      "metadata": {},
      "source": [
        "Редактирую названия столбцов"
      ]
    },
    {
      "cell_type": "code",
      "execution_count": 5,
      "metadata": {},
      "outputs": [],
      "source": [
        "df = df.rename (\n",
        "    columns = {\n",
        "        'movie_facebook_likes;' : 'movie_facebook_likes',\n",
        "        ' cast_total_facebook_likes' : 'cast_total_facebook_likes'\n",
        "    }\n",
        ")\n",
        "\n",
        "renamed_columns = {}\n",
        "for column in df.columns:\n",
        "    renamed_columns[column] = column.lower().strip()\n",
        "    \n",
        "df = df.rename(columns = renamed_columns)"
      ]
    },
    {
      "cell_type": "code",
      "execution_count": 6,
      "metadata": {},
      "outputs": [
        {
          "data": {
            "text/plain": [
              "Index(['color', 'director_name', 'num_critic_for_reviews', 'duration',\n",
              "       'director_facebook_likes', 'actor_3_facebook_likes', 'actor_2_name',\n",
              "       'actor_1_facebook_likes', 'gross', 'genres', 'actor_1_name',\n",
              "       'movie_title', 'num_voted_users', 'cast_total_facebook_likes',\n",
              "       'actor_3_name', 'facenumber_in_poster', 'plot_keywords',\n",
              "       'movie_imdb_link', 'num_user_for_reviews', 'language', 'country',\n",
              "       'content_rating', 'budget', 'title_year', 'actor_2_facebook_likes',\n",
              "       'imdb_score', 'aspect_ratio', 'movie_facebook_likes'],\n",
              "      dtype='object')"
            ]
          },
          "execution_count": 6,
          "metadata": {},
          "output_type": "execute_result"
        }
      ],
      "source": [
        "df.columns"
      ]
    },
    {
      "attachments": {},
      "cell_type": "markdown",
      "metadata": {},
      "source": [
        "проверю явные дубликаты и удалю их"
      ]
    },
    {
      "cell_type": "code",
      "execution_count": 7,
      "metadata": {},
      "outputs": [
        {
          "data": {
            "text/plain": [
              "45"
            ]
          },
          "execution_count": 7,
          "metadata": {},
          "output_type": "execute_result"
        }
      ],
      "source": [
        "df.duplicated().sum()"
      ]
    },
    {
      "cell_type": "code",
      "execution_count": 8,
      "metadata": {},
      "outputs": [],
      "source": [
        "df = df.drop_duplicates().reset_index(drop=True)"
      ]
    },
    {
      "cell_type": "code",
      "execution_count": 9,
      "metadata": {},
      "outputs": [
        {
          "data": {
            "text/plain": [
              "0"
            ]
          },
          "execution_count": 9,
          "metadata": {},
          "output_type": "execute_result"
        }
      ],
      "source": [
        "df.duplicated().sum()"
      ]
    },
    {
      "attachments": {},
      "cell_type": "markdown",
      "metadata": {},
      "source": [
        "удалю неявные дубликаты"
      ]
    },
    {
      "cell_type": "code",
      "execution_count": 10,
      "metadata": {},
      "outputs": [],
      "source": [
        "def replace_wrong_color (wrong_genres, correct_genre):\n",
        "    for wrong_genre in wrong_genres:\n",
        "        df['color'] = df['color'].replace(wrong_genre, correct_genre)"
      ]
    },
    {
      "cell_type": "code",
      "execution_count": 11,
      "metadata": {},
      "outputs": [],
      "source": [
        "duplicates = ['colour','Color','Colour']\n",
        "name = 'color'\n",
        "replace_wrong_color(duplicates, name)\n",
        "\n",
        "duplicates = [' Black and White',' black and white']\n",
        "name = 'black and white'\n",
        "replace_wrong_color(duplicates, name)"
      ]
    },
    {
      "cell_type": "code",
      "execution_count": 12,
      "metadata": {},
      "outputs": [
        {
          "data": {
            "text/plain": [
              "color                         18\n",
              "director_name                169\n",
              "num_critic_for_reviews       114\n",
              "duration                      83\n",
              "director_facebook_likes      169\n",
              "actor_3_facebook_likes        89\n",
              "actor_2_name                  79\n",
              "actor_1_facebook_likes        74\n",
              "gross                        928\n",
              "genres                        68\n",
              "actor_1_name                  74\n",
              "movie_title                   68\n",
              "num_voted_users               68\n",
              "cast_total_facebook_likes     68\n",
              "actor_3_name                  89\n",
              "facenumber_in_poster          81\n",
              "plot_keywords                214\n",
              "movie_imdb_link               68\n",
              "num_user_for_reviews          86\n",
              "language                      81\n",
              "country                       71\n",
              "content_rating               363\n",
              "budget                       544\n",
              "title_year                   172\n",
              "actor_2_facebook_likes        79\n",
              "imdb_score                    68\n",
              "aspect_ratio                 386\n",
              "movie_facebook_likes          68\n",
              "dtype: int64"
            ]
          },
          "execution_count": 12,
          "metadata": {},
          "output_type": "execute_result"
        }
      ],
      "source": [
        "df.isna().sum()"
      ]
    },
    {
      "attachments": {},
      "cell_type": "markdown",
      "metadata": {},
      "source": [
        "Заполню пропущенные значения, в спроках с типом string поставлю \"unknown\""
      ]
    },
    {
      "cell_type": "code",
      "execution_count": 13,
      "metadata": {},
      "outputs": [],
      "source": [
        "columns_to_replace_string =['color','director_name','actor_2_name','genres','actor_1_name',\n",
        "    'movie_title','actor_3_name','plot_keywords','movie_imdb_link','language','country',\n",
        "    'content_rating']\n",
        "\n",
        "for row in columns_to_replace_string:\n",
        "    df[row] = df[row].fillna('unknown')"
      ]
    },
    {
      "attachments": {},
      "cell_type": "markdown",
      "metadata": {},
      "source": [
        "В строках с типом float заполню средним по режисеру, если у режиссера одна работа то заполню нулем"
      ]
    },
    {
      "cell_type": "code",
      "execution_count": 14,
      "metadata": {},
      "outputs": [],
      "source": [
        "columns_to_replace_float =['num_critic_for_reviews', 'duration','director_facebook_likes',\n",
        "    'actor_3_facebook_likes','actor_1_facebook_likes','gross','num_voted_users',\n",
        "    'cast_total_facebook_likes','facenumber_in_poster','num_user_for_reviews','budget',\n",
        "    'title_year','actor_2_facebook_likes','imdb_score','aspect_ratio']\n",
        "\n",
        "for column in columns_to_replace_float:\n",
        "    group_by_directors=df.groupby(\"director_name\")[column].transform(\"median\")\n",
        "    df[column]=df[column].fillna(group_by_directors)\n",
        "\n",
        "for column in columns_to_replace_float:\n",
        "    df[column] = df[column].fillna(0)\n"
      ]
    },
    {
      "cell_type": "code",
      "execution_count": 15,
      "metadata": {},
      "outputs": [
        {
          "data": {
            "text/plain": [
              "color                         0\n",
              "director_name                 0\n",
              "num_critic_for_reviews        0\n",
              "duration                      0\n",
              "director_facebook_likes       0\n",
              "actor_3_facebook_likes        0\n",
              "actor_2_name                  0\n",
              "actor_1_facebook_likes        0\n",
              "gross                         0\n",
              "genres                        0\n",
              "actor_1_name                  0\n",
              "movie_title                   0\n",
              "num_voted_users               0\n",
              "cast_total_facebook_likes     0\n",
              "actor_3_name                  0\n",
              "facenumber_in_poster          0\n",
              "plot_keywords                 0\n",
              "movie_imdb_link               0\n",
              "num_user_for_reviews          0\n",
              "language                      0\n",
              "country                       0\n",
              "content_rating                0\n",
              "budget                        0\n",
              "title_year                    0\n",
              "actor_2_facebook_likes        0\n",
              "imdb_score                    0\n",
              "aspect_ratio                  0\n",
              "movie_facebook_likes         68\n",
              "dtype: int64"
            ]
          },
          "execution_count": 15,
          "metadata": {},
          "output_type": "execute_result"
        }
      ],
      "source": [
        "df.isna().sum()"
      ]
    },
    {
      "attachments": {},
      "cell_type": "markdown",
      "metadata": {},
      "source": [
        "форматирую в  файл cvs"
      ]
    },
    {
      "cell_type": "code",
      "execution_count": 16,
      "metadata": {},
      "outputs": [],
      "source": [
        "df.to_csv(r'C:/Users/User/ml-labs/data/Lab1_Karpov_FIT-221.csv', index = False)  "
      ]
    },
    {
      "attachments": {},
      "cell_type": "markdown",
      "metadata": {},
      "source": [
        "преобразую валовую и бюджетную стоимость в реальные сммы в долларах"
      ]
    },
    {
      "cell_type": "code",
      "execution_count": 17,
      "metadata": {},
      "outputs": [],
      "source": [
        "from bs4 import BeautifulSoup\n",
        "import requests\n",
        "\n",
        "url=\"http://www.usinflationcalculator.com/inflation/consumer-price-index-and-annual-percent-changes-from-1913-to-2008/\"\n",
        "\n",
        "r=requests.get(url)\n",
        "data=r.text\n",
        "soup=BeautifulSoup(data, 'html.parser')\n",
        "\n",
        "table=soup.find('table')\n",
        "rows=table.tbody.findAll('tr')\n",
        "\n",
        "years=[]\n",
        "cpis=[]\n",
        "\n",
        "for row in rows:\n",
        "    year=row.findAll('td')[0].get_text()\n",
        "    if year.isdigit() and int(year)<2017:\n",
        "        years.append(int(year))\n",
        "        cpis.append(float(row.findAll('td')[13].get_text()))\n",
        "\n",
        "cpi_table=pd.DataFrame({\n",
        "    \"year\":years,\n",
        "    \"avg_annual_cpi\":cpis\n",
        "})\n",
        "\n",
        "cpi_table.head()\n",
        "\n",
        "cpi_table.to_csv(r'C:/Users/User/ml-labs/data/Lab1_Karpov_CPI.csv', index = False)  "
      ]
    },
    {
      "cell_type": "code",
      "execution_count": 18,
      "metadata": {},
      "outputs": [
        {
          "name": "stderr",
          "output_type": "stream",
          "text": [
            "C:\\Users\\User\\AppData\\Local\\Temp\\ipykernel_11468\\478441109.py:6: FutureWarning: Calling float on a single element Series is deprecated and will raise a TypeError in the future. Use float(ser.iloc[0]) instead\n",
            "  CPI_2016=float(cpi_table[cpi_table['year']==2016]['avg_annual_cpi'])\n"
          ]
        }
      ],
      "source": [
        "def get_real_value(nominal_amt,old_cpi,new_cpi):\n",
        "    real_value=(nominal_amt*new_cpi)/old_cpi\n",
        "    return real_value\n",
        "\n",
        "\n",
        "CPI_2016=float(cpi_table[cpi_table['year']==2016]['avg_annual_cpi'])\n",
        "\n",
        "real_domestic_gross=[]\n",
        "real_budget_values=[]\n",
        "\n",
        "for index,row in df.iterrows():\n",
        "    gross=row['gross']\n",
        "    budget=row['budget']\n",
        "    year=row['title_year']\n",
        "    cpi_series = cpi_table[cpi_table[\"year\"] == year][\"avg_annual_cpi\"].values\n",
        "    if len(cpi_series) > 0:\n",
        "        cpi = cpi_series[0]\n",
        "        real_gross = round(get_real_value(gross, cpi, CPI_2016))\n",
        "        real_budget = round(get_real_value(budget, cpi, CPI_2016))\n",
        "        real_domestic_gross.append(real_gross)\n",
        "        real_budget_values.append(real_budget)\n",
        "    else:\n",
        "        real_domestic_gross.append(-1.0)\n",
        "        real_budget_values.append(-1.0)\n",
        "    \n",
        "df['real_domestic_gross']=real_domestic_gross\n",
        "df['real_budget']=real_budget_values\n",
        "\n",
        "df.to_csv(r'C:/Users/User/ml-labs/data/Lab1_Karpov_CPI.csv')"
      ]
    },
    {
      "attachments": {},
      "cell_type": "markdown",
      "metadata": {},
      "source": [
        "Проверка гипотез <br>\n",
        "Гипотеза 1: В среднем в США снимают самые дорогие фильмы <br>\n",
        "Гипотеза 2: Чем дороже фильм, тем выше у него оценка <br>\n",
        "Гипотеза 3: Больше всего фильмов снято на английском языке <br>"
      ]
    },
    {
      "attachments": {},
      "cell_type": "markdown",
      "metadata": {},
      "source": [
        "проверка гипотезы 1"
      ]
    },
    {
      "cell_type": "code",
      "execution_count": 19,
      "metadata": {},
      "outputs": [
        {
          "data": {
            "text/html": [
              "<div>\n",
              "<style scoped>\n",
              "    .dataframe tbody tr th:only-of-type {\n",
              "        vertical-align: middle;\n",
              "    }\n",
              "\n",
              "    .dataframe tbody tr th {\n",
              "        vertical-align: top;\n",
              "    }\n",
              "\n",
              "    .dataframe thead th {\n",
              "        text-align: right;\n",
              "    }\n",
              "</style>\n",
              "<table border=\"1\" class=\"dataframe\">\n",
              "  <thead>\n",
              "    <tr style=\"text-align: right;\">\n",
              "      <th></th>\n",
              "      <th>budget</th>\n",
              "    </tr>\n",
              "    <tr>\n",
              "      <th>country</th>\n",
              "      <th></th>\n",
              "    </tr>\n",
              "  </thead>\n",
              "  <tbody>\n",
              "    <tr>\n",
              "      <th>Hungary</th>\n",
              "      <td>1.260000e+09</td>\n",
              "    </tr>\n",
              "    <tr>\n",
              "      <th>Thailand</th>\n",
              "      <td>2.000000e+08</td>\n",
              "    </tr>\n",
              "    <tr>\n",
              "      <th>New Line</th>\n",
              "      <td>9.000000e+07</td>\n",
              "    </tr>\n",
              "    <tr>\n",
              "      <th>Czech Republic</th>\n",
              "      <td>5.000000e+07</td>\n",
              "    </tr>\n",
              "    <tr>\n",
              "      <th>Peru</th>\n",
              "      <td>4.500000e+07</td>\n",
              "    </tr>\n",
              "    <tr>\n",
              "      <th>Belgium</th>\n",
              "      <td>3.850000e+07</td>\n",
              "    </tr>\n",
              "    <tr>\n",
              "      <th>Aruba</th>\n",
              "      <td>3.500000e+07</td>\n",
              "    </tr>\n",
              "    <tr>\n",
              "      <th>Libya</th>\n",
              "      <td>3.500000e+07</td>\n",
              "    </tr>\n",
              "    <tr>\n",
              "      <th>Chile</th>\n",
              "      <td>2.600000e+07</td>\n",
              "    </tr>\n",
              "    <tr>\n",
              "      <th>Japan</th>\n",
              "      <td>2.600000e+07</td>\n",
              "    </tr>\n",
              "  </tbody>\n",
              "</table>\n",
              "</div>"
            ],
            "text/plain": [
              "                      budget\n",
              "country                     \n",
              "Hungary         1.260000e+09\n",
              "Thailand        2.000000e+08\n",
              "New Line        9.000000e+07\n",
              "Czech Republic  5.000000e+07\n",
              "Peru            4.500000e+07\n",
              "Belgium         3.850000e+07\n",
              "Aruba           3.500000e+07\n",
              "Libya           3.500000e+07\n",
              "Chile           2.600000e+07\n",
              "Japan           2.600000e+07"
            ]
          },
          "execution_count": 19,
          "metadata": {},
          "output_type": "execute_result"
        }
      ],
      "source": [
        "df_test_1 = pd.DataFrame(df.groupby('country')['budget'].median()).sort_values(by='budget', ascending=False)\n",
        "\n",
        "df_test_1.head(10)\n",
        "\n"
      ]
    },
    {
      "attachments": {},
      "cell_type": "markdown",
      "metadata": {},
      "source": [
        "Оказывается у Венгрии в среднем самые высокобюджетные фильмы(???), гипотеза не подтвердилась"
      ]
    },
    {
      "attachments": {},
      "cell_type": "markdown",
      "metadata": {},
      "source": [
        "проверка гипотезы 2"
      ]
    },
    {
      "cell_type": "code",
      "execution_count": 20,
      "metadata": {},
      "outputs": [
        {
          "data": {
            "text/plain": [
              "0.02425463986295835"
            ]
          },
          "execution_count": 20,
          "metadata": {},
          "output_type": "execute_result"
        }
      ],
      "source": [
        "df[\"imdb_score\"].corr(df[\"budget\"])"
      ]
    },
    {
      "attachments": {},
      "cell_type": "markdown",
      "metadata": {},
      "source": [
        "Корреляция меньше 0.1, можно сказать что взаимосвязи почти нет, гипотеза не подтвердилась"
      ]
    },
    {
      "attachments": {},
      "cell_type": "markdown",
      "metadata": {},
      "source": [
        "проверка гипотезы 3"
      ]
    },
    {
      "cell_type": "code",
      "execution_count": 21,
      "metadata": {},
      "outputs": [
        {
          "data": {
            "text/plain": [
              "language\n",
              "Aboriginal       2\n",
              "Arabic           5\n",
              "Aramaic          1\n",
              "Bosnian          1\n",
              "Cantonese       11\n",
              "Chinese          3\n",
              "Czech            1\n",
              "Danish           5\n",
              "Dari             2\n",
              "Dutch            4\n",
              "Dzongkha         1\n",
              "English       4605\n",
              "Filipino         1\n",
              "French          72\n",
              "German          18\n",
              "Greek            1\n",
              "Hebrew           5\n",
              "Hindi           27\n",
              "Hungarian        1\n",
              "Icelandic        2\n",
              "Indonesian       2\n",
              "Italian          9\n",
              "Japanese        17\n",
              "Kannada          1\n",
              "Kazakh           1\n",
              "Korean           7\n",
              "Mandarin        22\n",
              "Maya             1\n",
              "Mongolian        1\n",
              "Norwegian        4\n",
              "Panjabi          1\n",
              "Persian          4\n",
              "Polish           4\n",
              "Portuguese       8\n",
              "Romanian         1\n",
              "Russian         11\n",
              "Slovenian        1\n",
              "Spanish         39\n",
              "Swahili          1\n",
              "Swedish          5\n",
              "Tamil            1\n",
              "Telugu           1\n",
              "Thai             3\n",
              "Urdu             1\n",
              "Vietnamese       1\n",
              "Zulu             2\n",
              "unknown         81\n",
              "Name: language, dtype: int64"
            ]
          },
          "execution_count": 21,
          "metadata": {},
          "output_type": "execute_result"
        }
      ],
      "source": [
        "df.groupby(\"language\")[\"language\"].count()"
      ]
    },
    {
      "attachments": {},
      "cell_type": "markdown",
      "metadata": {},
      "source": [
        "На английском языке снято 4605 фильмов, это абсолютное большинство, гипотеза подтвердилась"
      ]
    }
  ],
  "metadata": {
    "colab": {
      "collapsed_sections": [
        "VUC88oWjTJw2"
      ],
      "provenance": []
    },
    "hide_input": false,
    "kernelspec": {
      "display_name": "Python 3 (ipykernel)",
      "language": "python",
      "name": "python3"
    },
    "language_info": {
      "codemirror_mode": {
        "name": "ipython",
        "version": 3
      },
      "file_extension": ".py",
      "mimetype": "text/x-python",
      "name": "python",
      "nbconvert_exporter": "python",
      "pygments_lexer": "ipython3",
      "version": "3.10.1"
    },
    "nbTranslate": {
      "displayLangs": [
        "*"
      ],
      "hotkey": "alt-t",
      "langInMainMenu": true,
      "sourceLang": "en",
      "targetLang": "fr",
      "useGoogleTranslate": true
    },
    "toc": {
      "base_numbering": 1,
      "nav_menu": {},
      "number_sections": true,
      "sideBar": true,
      "skip_h1_title": true,
      "title_cell": "Table of Contents",
      "title_sidebar": "Contents",
      "toc_cell": false,
      "toc_position": {
        "height": "calc(100% - 180px)",
        "left": "10px",
        "top": "150px",
        "width": "165px"
      },
      "toc_section_display": true,
      "toc_window_display": true
    },
    "varInspector": {
      "cols": {
        "lenName": 16,
        "lenType": 16,
        "lenVar": 40
      },
      "kernels_config": {
        "python": {
          "delete_cmd_postfix": "",
          "delete_cmd_prefix": "del ",
          "library": "var_list.py",
          "varRefreshCmd": "print(var_dic_list())"
        },
        "r": {
          "delete_cmd_postfix": ") ",
          "delete_cmd_prefix": "rm(",
          "library": "var_list.r",
          "varRefreshCmd": "cat(var_dic_list()) "
        }
      },
      "types_to_exclude": [
        "module",
        "function",
        "builtin_function_or_method",
        "instance",
        "_Feature"
      ],
      "window_display": false
    }
  },
  "nbformat": 4,
  "nbformat_minor": 0
}
